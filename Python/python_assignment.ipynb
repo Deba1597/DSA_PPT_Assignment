{
  "nbformat": 4,
  "nbformat_minor": 0,
  "metadata": {
    "colab": {
      "provenance": [],
      "authorship_tag": "ABX9TyNvu+VFpN45kPkWDaeixmP9",
      "include_colab_link": true
    },
    "kernelspec": {
      "name": "python3",
      "display_name": "Python 3"
    },
    "language_info": {
      "name": "python"
    }
  },
  "cells": [
    {
      "cell_type": "markdown",
      "metadata": {
        "id": "view-in-github",
        "colab_type": "text"
      },
      "source": [
        "<a href=\"https://colab.research.google.com/github/Deba1597/DSA_PPT_Assignment/blob/main/Python/python_assignment.ipynb\" target=\"_parent\"><img src=\"https://colab.research.google.com/assets/colab-badge.svg\" alt=\"Open In Colab\"/></a>"
      ]
    },
    {
      "cell_type": "code",
      "execution_count": 2,
      "metadata": {
        "colab": {
          "base_uri": "https://localhost:8080/"
        },
        "id": "-Ua2_JV6p5ca",
        "outputId": "82c06bdb-ba26-4d86-ad9d-74aa5b3d51dd"
      },
      "outputs": [
        {
          "output_type": "stream",
          "name": "stdout",
          "text": [
            "ecneics ataD\n"
          ]
        }
      ],
      "source": [
        "#1) reversal of string\n",
        "def reverseString(string):\n",
        "\n",
        "    characters = list(string)\n",
        "    length = len(characters)\n",
        "\n",
        "    for i in range(length // 2):\n",
        "        characters[i], characters[length - i - 1] = characters[length - i - 1], characters[i]\n",
        "\n",
        "    reversed_string = ''.join(characters)\n",
        "    return reversed_string\n",
        "\n",
        "string = 'Data science'\n",
        "print(reverseString(string))"
      ]
    },
    {
      "cell_type": "code",
      "source": [
        "# 2) palindrom\n",
        "def isPalindrom(string):\n",
        "    string = string.lower()\n",
        "    reverse_str = string[::-1]\n",
        "    return string == reverse_str\n",
        "\n",
        "string = 'Aibohphobia'\n",
        "print(isPalindrom(string))"
      ],
      "metadata": {
        "colab": {
          "base_uri": "https://localhost:8080/"
        },
        "id": "c1Z3Q9SGqVC3",
        "outputId": "74227d19-bc2f-4c31-a7d4-1c8109c6faf9"
      },
      "execution_count": 6,
      "outputs": [
        {
          "output_type": "stream",
          "name": "stdout",
          "text": [
            "True\n"
          ]
        }
      ]
    },
    {
      "cell_type": "code",
      "source": [
        "#3) largest number in a given list\n",
        "def largeNum(nums):\n",
        "    if len(nums) == 0:\n",
        "        return None\n",
        "    largest = nums[0]\n",
        "    for i in nums:\n",
        "        if i > largest:\n",
        "            largest = i\n",
        "    return largest\n",
        "\n",
        "nums = [1,2,3,4,5,3,3,9,8,3,2]\n",
        "print(largeNum(nums))"
      ],
      "metadata": {
        "colab": {
          "base_uri": "https://localhost:8080/"
        },
        "id": "0UZ0TBrisZ2K",
        "outputId": "fd422e9e-fdd7-41fd-ecf5-6985a563621a"
      },
      "execution_count": 7,
      "outputs": [
        {
          "output_type": "stream",
          "name": "stdout",
          "text": [
            "9\n"
          ]
        }
      ]
    },
    {
      "cell_type": "code",
      "source": [
        "#4) find the occurence of element in a list\n",
        "from collections import Counter\n",
        "def noOfOccurence(nums):\n",
        "    count = Counter(nums)\n",
        "    #print(count)\n",
        "    return count\n",
        "\n",
        "nums = [1,1,2,1,1,2,3,4,3,2,3,2,3,3]\n",
        "result = noOfOccurence(nums)\n",
        "for i , counts in result.items():\n",
        "    print('no of occurance of ',i ,':  is ', counts)"
      ],
      "metadata": {
        "colab": {
          "base_uri": "https://localhost:8080/"
        },
        "id": "vqxs4TLSt3Br",
        "outputId": "bcbdbcc9-79fc-46e7-89f3-e81a924b166b"
      },
      "execution_count": 23,
      "outputs": [
        {
          "output_type": "stream",
          "name": "stdout",
          "text": [
            "no of occurance of  1 :  is  4\n",
            "no of occurance of  2 :  is  4\n",
            "no of occurance of  3 :  is  5\n",
            "no of occurance of  4 :  is  1\n"
          ]
        }
      ]
    },
    {
      "cell_type": "code",
      "source": [
        "# 5) 2nd largest number in list\n",
        "import heapq\n",
        "class Solution:\n",
        "    def findKthLargest(self, nums, k):\n",
        "        return heapq.nlargest(k, nums)[-1]\n",
        "\n",
        "\n",
        "nums = [3,2,1,5,6,4]\n",
        "k = 2\n",
        "largest = Solution()\n",
        "sol = largest.findKthLargest(nums, k)\n",
        "print(sol)"
      ],
      "metadata": {
        "colab": {
          "base_uri": "https://localhost:8080/"
        },
        "id": "96dP_xRSud22",
        "outputId": "feacc58d-41ed-407f-c83f-6ccdcd6549d9"
      },
      "execution_count": 24,
      "outputs": [
        {
          "output_type": "stream",
          "name": "stdout",
          "text": [
            "5\n"
          ]
        }
      ]
    },
    {
      "cell_type": "code",
      "source": [
        "# 6) remove duplicate number in list\n",
        "def removeDuplicates(lst):\n",
        "    if len(lst) == 0:\n",
        "        return []\n",
        "\n",
        "    unique_list = []\n",
        "    for item in lst:\n",
        "        if item not in unique_list:\n",
        "            unique_list.append(item)\n",
        "\n",
        "    return unique_list\n",
        "\n",
        "\n",
        "\n",
        "my_list = [1, 2, 3, 2, 4, 1, 5, 3, 6]\n",
        "result = removeDuplicates(my_list)\n",
        "print(\"List with duplicates removed:\", result)\n"
      ],
      "metadata": {
        "colab": {
          "base_uri": "https://localhost:8080/"
        },
        "id": "yq_3_iGQyAeZ",
        "outputId": "1e09f04a-3356-4180-bdd3-838cf8dd5e6b"
      },
      "execution_count": 25,
      "outputs": [
        {
          "output_type": "stream",
          "name": "stdout",
          "text": [
            "List with duplicates removed: [1, 2, 3, 4, 5, 6]\n"
          ]
        }
      ]
    },
    {
      "cell_type": "code",
      "source": [
        "# 7) factorial\n",
        "def factorial(n):\n",
        "    if n == 0 :\n",
        "        return 1\n",
        "    return n * factorial(n-1)\n",
        "\n",
        "n = 5\n",
        "result = factorial(n)\n",
        "print(result)"
      ],
      "metadata": {
        "colab": {
          "base_uri": "https://localhost:8080/"
        },
        "id": "aZdCx2XjyAhg",
        "outputId": "e1f2cd39-1454-4fc2-9d3a-5cf8852029cc"
      },
      "execution_count": 26,
      "outputs": [
        {
          "output_type": "stream",
          "name": "stdout",
          "text": [
            "120\n"
          ]
        }
      ]
    },
    {
      "cell_type": "code",
      "source": [
        "# 8) prime number check\n",
        "def prime_checker(number):\n",
        "    is_prime = True\n",
        "    for i in range(2,number):\n",
        "        if number % i == 0:\n",
        "            is_prime = False\n",
        "    if is_prime:\n",
        "        print(\"It's a prime number.\")\n",
        "    else:\n",
        "        print(\"It's not a prime number.\")\n",
        "\n",
        "n = 20\n",
        "result = prime_checker(n)\n",
        "print(result)"
      ],
      "metadata": {
        "colab": {
          "base_uri": "https://localhost:8080/"
        },
        "id": "odNPJBnry0ue",
        "outputId": "b42560c1-70cb-4bf2-f637-65dedda47c94"
      },
      "execution_count": 27,
      "outputs": [
        {
          "output_type": "stream",
          "name": "stdout",
          "text": [
            "It's not a prime number.\n",
            "None\n"
          ]
        }
      ]
    },
    {
      "cell_type": "code",
      "source": [
        "# 9) sort a list of integer in ascending order\n",
        "def sort_ascending(lst):\n",
        "    lst.sort()\n",
        "    return lst\n",
        "\n",
        "nums = [5, 2, 9, 1, 7]\n",
        "sorted_list = sort_ascending(nums)\n",
        "print(\"Sorted list in ascending order:\", sorted_list)"
      ],
      "metadata": {
        "colab": {
          "base_uri": "https://localhost:8080/"
        },
        "id": "bbp8O-E-zsiL",
        "outputId": "197f7bc5-04c5-43fa-e7cd-6df0d970feaf"
      },
      "execution_count": 28,
      "outputs": [
        {
          "output_type": "stream",
          "name": "stdout",
          "text": [
            "Sorted list in ascending order: [1, 2, 5, 7, 9]\n"
          ]
        }
      ]
    },
    {
      "cell_type": "code",
      "source": [
        "# 10) sum of all number in a list\n",
        "def sumOfnum(nums):\n",
        "    sum = 0\n",
        "    for i in nums:\n",
        "        sum += i\n",
        "    return sum\n",
        "nums = [1,2,3,4,5,6,7,8,9]\n",
        "print(sumOfnum(nums))"
      ],
      "metadata": {
        "colab": {
          "base_uri": "https://localhost:8080/"
        },
        "id": "7rBQIRRX46ZE",
        "outputId": "06a355af-af3d-4d55-f5a9-b81a856b0606"
      },
      "execution_count": 29,
      "outputs": [
        {
          "output_type": "stream",
          "name": "stdout",
          "text": [
            "45\n"
          ]
        }
      ]
    },
    {
      "cell_type": "code",
      "source": [
        "# 11) find common element in two list\n",
        "def find_common_elements(list1, list2):\n",
        "    common_elements = []\n",
        "\n",
        "    for i in list1:\n",
        "        if i in list2:\n",
        "            common_elements.append(i)\n",
        "\n",
        "    return common_elements\n",
        "\n",
        "\n",
        "# Example usage\n",
        "list1 = [1, 2, 3, 4, 5]\n",
        "list2 = [4, 5, 6, 7, 8]\n",
        "common_elements = find_common_elements(list1, list2)\n",
        "print(common_elements)\n"
      ],
      "metadata": {
        "colab": {
          "base_uri": "https://localhost:8080/"
        },
        "id": "cA8soJ4_5Z97",
        "outputId": "21bf9b10-323e-4da3-8ec5-40540f961b9b"
      },
      "execution_count": 31,
      "outputs": [
        {
          "output_type": "stream",
          "name": "stdout",
          "text": [
            "[4, 5]\n"
          ]
        }
      ]
    },
    {
      "cell_type": "code",
      "source": [
        "# 12) check if a string is anagram of another string\n",
        "def isAnagram(str1, str2):\n",
        "\n",
        "    str1 = str1.lower().replace(\" \", \"\")\n",
        "    str2 = str2.lower().replace(\" \", \"\")\n",
        "\n",
        "    if len(str1) != len(str2):\n",
        "        return False\n",
        "\n",
        "    char_freq1 = {}\n",
        "    char_freq2 = {}\n",
        "\n",
        "    for char in str1:\n",
        "        char_freq1[char] = char_freq1.get(char, 0) + 1\n",
        "    for char in str2:\n",
        "        char_freq2[char] = char_freq2.get(char, 0) + 1\n",
        "    return char_freq1 == char_freq2\n",
        "\n",
        "\n",
        "\n",
        "string1 = \"listen\"\n",
        "string2 = \"silent\"\n",
        "if isAnagram(string1, string2):\n",
        "    print(f\"{string1} and {string2} are anagrams.\")\n",
        "else:\n",
        "    print(f\"{string1} and {string2} are not anagrams.\")\n"
      ],
      "metadata": {
        "colab": {
          "base_uri": "https://localhost:8080/"
        },
        "id": "W4PQRk_j5p1E",
        "outputId": "249f76bd-edd6-4085-b74a-dc06abbffda1"
      },
      "execution_count": 33,
      "outputs": [
        {
          "output_type": "stream",
          "name": "stdout",
          "text": [
            "listen and silent are anagrams.\n"
          ]
        }
      ]
    },
    {
      "cell_type": "code",
      "source": [
        "# 13) generate all permutation of a given string\n",
        "def generate_permutations(string):\n",
        "    # Convert the string to a list for easier manipulation\n",
        "    chars = list(string)\n",
        "    result = []\n",
        "\n",
        "    # Helper function to generate permutations recursively\n",
        "    def backtrack(start):\n",
        "        # If we have reached the end of the string, add the permutation to the result\n",
        "        if start == len(chars):\n",
        "            result.append(''.join(chars))\n",
        "            return\n",
        "\n",
        "        for i in range(start, len(chars)):\n",
        "            # Swap characters to generate new permutation\n",
        "            chars[start], chars[i] = chars[i], chars[start]\n",
        "\n",
        "            # Recursively generate permutations with the updated string\n",
        "            backtrack(start + 1)\n",
        "\n",
        "            # Restore the original order by swapping back\n",
        "            chars[start], chars[i] = chars[i], chars[start]\n",
        "\n",
        "    # Start the recursive backtracking process\n",
        "    backtrack(0)\n",
        "\n",
        "    return result\n",
        "\n",
        "\n",
        "# Example usage\n",
        "input_string = \"abc\"\n",
        "permutations = generate_permutations(input_string)\n",
        "print(\"Permutations:\", permutations)\n",
        "print(len(permutations))"
      ],
      "metadata": {
        "colab": {
          "base_uri": "https://localhost:8080/"
        },
        "id": "u0DcCcQi6d6u",
        "outputId": "a8feb36d-c1bb-4d99-c834-cc2a15d3fa3b"
      },
      "execution_count": 40,
      "outputs": [
        {
          "output_type": "stream",
          "name": "stdout",
          "text": [
            "Permutations: ['abc', 'acb', 'bac', 'bca', 'cba', 'cab']\n",
            "6\n"
          ]
        }
      ]
    },
    {
      "cell_type": "code",
      "source": [
        "# 14) fibonaci\n",
        "def fib(n):\n",
        "    if n == 0 or n == 1 :\n",
        "        return n\n",
        "    return fib(n-1)+fib(n-2)\n",
        "\n",
        "n = 10\n",
        "fib_list = []\n",
        "for i in range(n):\n",
        "    fib_list.append(fib(i))\n",
        "print(fib_list)"
      ],
      "metadata": {
        "colab": {
          "base_uri": "https://localhost:8080/"
        },
        "id": "hTkqrPth64UV",
        "outputId": "604edd0c-2686-4559-bfe9-0379b26070ea"
      },
      "execution_count": 45,
      "outputs": [
        {
          "output_type": "stream",
          "name": "stdout",
          "text": [
            "[0, 1, 1, 2, 3, 5, 8, 13, 21, 34]\n"
          ]
        }
      ]
    },
    {
      "cell_type": "code",
      "source": [
        "# 15) median of a list of numbers.\n",
        "def find_median(numbers):\n",
        "    sorted_numbers = sorted(numbers)\n",
        "    n = len(sorted_numbers)\n",
        "\n",
        "    if n % 2 == 1:\n",
        "        median = sorted_numbers[n // 2]\n",
        "    else:\n",
        "        mid_right = n // 2\n",
        "        mid_left = mid_right - 1\n",
        "        median = (sorted_numbers[mid_left] + sorted_numbers[mid_right]) / 2\n",
        "\n",
        "    return median\n",
        "\n",
        "\n",
        "number_list = [7, 2, 9, 1, 5, 3]\n",
        "median = find_median(number_list)\n",
        "print(\"Median:\", median)\n"
      ],
      "metadata": {
        "colab": {
          "base_uri": "https://localhost:8080/"
        },
        "id": "x6dtkoCk8It4",
        "outputId": "45723283-1968-44a5-9146-329710e509cb"
      },
      "execution_count": 46,
      "outputs": [
        {
          "output_type": "stream",
          "name": "stdout",
          "text": [
            "Median: 4.0\n"
          ]
        }
      ]
    },
    {
      "cell_type": "code",
      "source": [
        "# 16 )check if a given list is sorted in non decresing order\n",
        "def is_sorted(lst):\n",
        "    n = len(lst)\n",
        "    for i in range(n - 1):\n",
        "        if lst[i] > lst[i + 1]:\n",
        "            return False\n",
        "    return True\n",
        "\n",
        "\n",
        "\n",
        "list1 = [1, 2, 3, 4, 5]\n",
        "print('Is list1 sorted :',is_sorted(list1))\n",
        "\n",
        "list2 = [1, 4, 3, 2, 5]\n",
        "print('Is list2 sorted :',is_sorted(list2))"
      ],
      "metadata": {
        "colab": {
          "base_uri": "https://localhost:8080/"
        },
        "id": "x5cJSjdo-7TN",
        "outputId": "90f5b2e8-3fdd-44f0-f89b-e881a98ec8c8"
      },
      "execution_count": 50,
      "outputs": [
        {
          "output_type": "stream",
          "name": "stdout",
          "text": [
            "Is list1 sorted : True\n",
            "Is list2 sorted : False\n"
          ]
        }
      ]
    },
    {
      "cell_type": "code",
      "source": [
        "# 17) find intersection of tho list\n",
        "def find_intersection(list1, list2):\n",
        "    intersection = []\n",
        "\n",
        "    for item in list1:\n",
        "        if item in list2 and item not in intersection:\n",
        "            intersection.append(item)\n",
        "\n",
        "    return intersection\n",
        "\n",
        "\n",
        "# Example usage\n",
        "list1 = [1, 2, 3, 4, 5]\n",
        "list2 = [4, 5, 6, 7, 8]\n",
        "intersection = find_intersection(list1, list2)\n",
        "print(\"Intersection:\", intersection)"
      ],
      "metadata": {
        "colab": {
          "base_uri": "https://localhost:8080/"
        },
        "id": "9C6y24PGApZo",
        "outputId": "0509eb2d-aa9e-4358-fcd8-80624276bf01"
      },
      "execution_count": 51,
      "outputs": [
        {
          "output_type": "stream",
          "name": "stdout",
          "text": [
            "Intersection: [4, 5]\n"
          ]
        }
      ]
    },
    {
      "cell_type": "code",
      "source": [
        "# 18) maximum subarray sum in a given list\n",
        "def max_subarray_sum(nums):\n",
        "    if not nums:\n",
        "        return 0\n",
        "\n",
        "    current_sum = nums[0]\n",
        "    max_sum = nums[0]\n",
        "\n",
        "    for num in nums[1:]:\n",
        "        current_sum = max(num, current_sum + num)\n",
        "        max_sum = max(max_sum, current_sum)\n",
        "\n",
        "    return max_sum\n",
        "\n",
        "\n",
        "\n",
        "nums = [-2, 1, -3, 4, -1, 2, 1, -5, 4]\n",
        "max_sum = max_subarray_sum(nums)\n",
        "print(\"Maximum subarray sum:\", max_sum)"
      ],
      "metadata": {
        "colab": {
          "base_uri": "https://localhost:8080/"
        },
        "id": "ukBHWBbNA61x",
        "outputId": "2ab0956d-18eb-4a81-e3a2-1fcd59ae2922"
      },
      "execution_count": 52,
      "outputs": [
        {
          "output_type": "stream",
          "name": "stdout",
          "text": [
            "Maximum subarray sum: 6\n"
          ]
        }
      ]
    },
    {
      "cell_type": "code",
      "source": [
        "# 19) remove all vowel from a given string\n",
        "def removeVowels(string):\n",
        "    vowels = 'aeiouAEIOU'\n",
        "    new_string = ''\n",
        "\n",
        "    for char in string:\n",
        "        if char not in vowels:\n",
        "            new_string += char\n",
        "\n",
        "    return new_string\n",
        "\n",
        "\n",
        "input= \"Data Science\"\n",
        "result = removeVowels(input)\n",
        "print(\"Result:\", result)"
      ],
      "metadata": {
        "colab": {
          "base_uri": "https://localhost:8080/"
        },
        "id": "9H4tP3RZA64_",
        "outputId": "96447218-b40b-44fa-8e85-16bb8879df12"
      },
      "execution_count": 54,
      "outputs": [
        {
          "output_type": "stream",
          "name": "stdout",
          "text": [
            "Result: Dt Scnc\n"
          ]
        }
      ]
    },
    {
      "cell_type": "code",
      "source": [
        "# 20) reverse the order of words in agiven sentence\n",
        "def reverseSentence(sentence):\n",
        "    words = sentence.split()\n",
        "    reversed_words = words[::-1]\n",
        "    reversed_sentence = ' '.join(reversed_words)\n",
        "    return reversed_sentence\n",
        "\n",
        "\n",
        "# Example usage\n",
        "input = \" each Keras Application expects a specific kind of input preprocessing\"\n",
        "reversed_sentence = reverseSentence(input)\n",
        "print(\"Reversed Sentence  : \", reversed_sentence)\n"
      ],
      "metadata": {
        "colab": {
          "base_uri": "https://localhost:8080/"
        },
        "id": "jfatJttOBtX_",
        "outputId": "12a64ab7-30eb-4800-cb02-ce482bcfac1d"
      },
      "execution_count": 58,
      "outputs": [
        {
          "output_type": "stream",
          "name": "stdout",
          "text": [
            "Reversed Sentence  :  preprocessing input of kind specific a expects Application Keras each\n"
          ]
        }
      ]
    },
    {
      "cell_type": "code",
      "source": [
        "# 21 ) check if a string is anagram of another string\n",
        "def isAnagram(str1, str2):\n",
        "\n",
        "    str1 = str1.lower().replace(\" \", \"\")\n",
        "    str2 = str2.lower().replace(\" \", \"\")\n",
        "\n",
        "    if len(str1) != len(str2):\n",
        "        return False\n",
        "\n",
        "    char_freq1 = {}\n",
        "    char_freq2 = {}\n",
        "\n",
        "    for char in str1:\n",
        "        char_freq1[char] = char_freq1.get(char, 0) + 1\n",
        "    for char in str2:\n",
        "        char_freq2[char] = char_freq2.get(char, 0) + 1\n",
        "    return char_freq1 == char_freq2\n",
        "\n",
        "\n",
        "\n",
        "string1 = \"listen\"\n",
        "string2 = \"silent\"\n",
        "if isAnagram(string1, string2):\n",
        "    print(f\"{string1} and {string2} are anagrams.\")\n",
        "else:\n",
        "    print(f\"{string1} and {string2} are not anagrams.\")\n"
      ],
      "metadata": {
        "colab": {
          "base_uri": "https://localhost:8080/"
        },
        "id": "Wfd1vqX3CVz4",
        "outputId": "d8cc37dd-3bdb-4f58-8aa0-a0cb92a40934"
      },
      "execution_count": 59,
      "outputs": [
        {
          "output_type": "stream",
          "name": "stdout",
          "text": [
            "listen and silent are anagrams.\n"
          ]
        }
      ]
    },
    {
      "cell_type": "code",
      "source": [
        "# 22 ) first non repeating character in string\n",
        "def firstNonRepeatingCharacter(string):\n",
        "    char_count = {}\n",
        "\n",
        "    # Count the frequency of each character\n",
        "    for char in string:\n",
        "        if char in char_count:\n",
        "            char_count[char] += 1\n",
        "        else:\n",
        "            char_count[char] = 1\n",
        "\n",
        "    # Find the first non-repeating character\n",
        "    for char in string:\n",
        "        if char_count[char] == 1:\n",
        "            return char\n",
        "\n",
        "    # If no non-repeating character found\n",
        "    return None\n",
        "\n",
        "\n",
        "\n",
        "input_string = \"abracadabraabcrecbaacbe\"\n",
        "first_non_repeating = firstNonRepeatingCharacter(input_string)\n",
        "print(\"First non-repeating character:\", first_non_repeating)\n"
      ],
      "metadata": {
        "colab": {
          "base_uri": "https://localhost:8080/"
        },
        "id": "77YxGB0_DA24",
        "outputId": "5036fddc-344e-4dc1-cd19-2e93ffa1b880"
      },
      "execution_count": 60,
      "outputs": [
        {
          "output_type": "stream",
          "name": "stdout",
          "text": [
            "First non-repeating character: d\n"
          ]
        }
      ]
    },
    {
      "cell_type": "code",
      "source": [
        "# 23) prime factor\n",
        "def get_prime_factors(n):\n",
        "    factors = []\n",
        "\n",
        "\n",
        "    while n % 2 == 0:\n",
        "        factors.append(2)\n",
        "        n = n // 2\n",
        "    for i in range(3, n):\n",
        "        while n % i == 0:\n",
        "            factors.append(i)\n",
        "            n = n // i\n",
        "    if n > 2:\n",
        "        factors.append(n)\n",
        "\n",
        "    return factors\n",
        "\n",
        "\n",
        "# Example usage\n",
        "number = 12\n",
        "prime_factors = get_prime_factors(number)\n",
        "print(\"Prime factors of\", number, \":\", prime_factors)\n"
      ],
      "metadata": {
        "colab": {
          "base_uri": "https://localhost:8080/"
        },
        "id": "9oJR7AmDDmHi",
        "outputId": "d2446e68-2309-49fb-f281-b8b27249daf6"
      },
      "execution_count": 63,
      "outputs": [
        {
          "output_type": "stream",
          "name": "stdout",
          "text": [
            "Prime factors of 12 : [2, 2, 3]\n"
          ]
        }
      ]
    },
    {
      "cell_type": "code",
      "source": [
        "# 24) check if the given no is a power of 2\n",
        "import math\n",
        "\n",
        "def isPowerOf(base, number):\n",
        "    if base <= 0 or number <= 0:\n",
        "        return False\n",
        "    result = math.log(number, base)\n",
        "    return result.is_integer()\n",
        "\n",
        "\n",
        "# Example usage\n",
        "base = 2\n",
        "number = 16\n",
        "result = isPowerOf(base, number)\n",
        "print(number, \"is a power of\", base, \":\", result)"
      ],
      "metadata": {
        "colab": {
          "base_uri": "https://localhost:8080/"
        },
        "id": "UlpVGzdCD8Hx",
        "outputId": "60e294e8-4da7-4881-ff22-0b4a9c95675f"
      },
      "execution_count": 64,
      "outputs": [
        {
          "output_type": "stream",
          "name": "stdout",
          "text": [
            "16 is a power of 2 : True\n"
          ]
        }
      ]
    },
    {
      "cell_type": "code",
      "source": [
        "# 25 )merge 2 sorted list into a single sorted list\n",
        "def merge_sorted_lists(list1, list2):\n",
        "    merged_list = []\n",
        "    i, j = 0, 0\n",
        "\n",
        "    while i < len(list1) and j < len(list2):\n",
        "        if list1[i] <= list2[j]:\n",
        "            merged_list.append(list1[i])\n",
        "            i += 1\n",
        "        else:\n",
        "            merged_list.append(list2[j])\n",
        "            j += 1\n",
        "\n",
        "\n",
        "    while i < len(list1):\n",
        "        merged_list.append(list1[i])\n",
        "        i += 1\n",
        "\n",
        "    while j < len(list2):\n",
        "        merged_list.append(list2[j])\n",
        "        j += 1\n",
        "\n",
        "    return merged_list\n",
        "\n",
        "\n",
        "# Example usage\n",
        "list1 = [1, 3, 5, 7, 9]\n",
        "list2 = [2, 4, 6, 8, 10]\n",
        "merged = merge_sorted_lists(list1, list2)\n",
        "print(\"Merged sorted list:\", merged)\n"
      ],
      "metadata": {
        "colab": {
          "base_uri": "https://localhost:8080/"
        },
        "id": "yblBYchQEjW0",
        "outputId": "0e9b05b0-5e06-4561-ee16-a1978cc32096"
      },
      "execution_count": 66,
      "outputs": [
        {
          "output_type": "stream",
          "name": "stdout",
          "text": [
            "Merged sorted list: [1, 2, 3, 4, 5, 6, 7, 8, 9, 10]\n"
          ]
        }
      ]
    },
    {
      "cell_type": "code",
      "source": [
        "# 26) find the mode of a list of the number\n",
        "from collections import Counter\n",
        "def noOfOccurence(nums):\n",
        "    count = Counter(nums)\n",
        "    print(count)\n",
        "    return max(count.keys(), key = count.get)\n",
        "\n",
        "nums = [1,1,2,1,1,2,3,4,3,2,3,2,3,3]\n",
        "result = noOfOccurence(nums)\n",
        "print('mode is :',result)"
      ],
      "metadata": {
        "colab": {
          "base_uri": "https://localhost:8080/"
        },
        "id": "03cIHp67FLIJ",
        "outputId": "d278bbf1-9b81-4a7e-ddf4-c055cfb98974"
      },
      "execution_count": 74,
      "outputs": [
        {
          "output_type": "stream",
          "name": "stdout",
          "text": [
            "Counter({3: 5, 1: 4, 2: 4, 4: 1})\n",
            "mode is : 3\n"
          ]
        }
      ]
    },
    {
      "cell_type": "code",
      "source": [
        "# 27 ) find gcd of 2 number\n",
        "def gcd(*numbers):\n",
        "    if len(numbers) == 2:\n",
        "        a, b = numbers\n",
        "        while b != 0:\n",
        "            a, b = b, a % b\n",
        "        return a\n",
        "    elif len(numbers) > 2:\n",
        "        return gcd(numbers[0], gcd(*numbers[1:]))\n",
        "    else:\n",
        "        return -1\n",
        "\n",
        "\n",
        "# Example usage\n",
        "result = gcd(36, 48)\n",
        "print(\"GCD of the numbers is:\", result)"
      ],
      "metadata": {
        "colab": {
          "base_uri": "https://localhost:8080/"
        },
        "id": "_3SAaDnpFLEb",
        "outputId": "6c7ffb4e-38f5-4b51-d5a5-8f64840c7e8c"
      },
      "execution_count": 79,
      "outputs": [
        {
          "output_type": "stream",
          "name": "stdout",
          "text": [
            "GCD of the numbers is: 12\n"
          ]
        }
      ]
    },
    {
      "cell_type": "code",
      "source": [
        "# 28 ) calculate the squareroot of given number\n",
        "def squareRoot(number, iterations=100):\n",
        "    x = float(number)\n",
        "    for _ in range(iterations):\n",
        "        x = 0.5 * (x + number / x)  #  Newton's method\n",
        "    return x\n",
        "\n",
        "\n",
        "\n",
        "number = 16\n",
        "result = squareRoot(number)\n",
        "print(\"Approximate square root of\", number, \"is:\", result)\n"
      ],
      "metadata": {
        "colab": {
          "base_uri": "https://localhost:8080/"
        },
        "id": "g9geM-GrFLB1",
        "outputId": "c589f7ad-cbed-48e3-d7b7-00dc0d0d56a6"
      },
      "execution_count": 80,
      "outputs": [
        {
          "output_type": "stream",
          "name": "stdout",
          "text": [
            "Approximate square root of 16 is: 4.0\n"
          ]
        }
      ]
    },
    {
      "cell_type": "code",
      "source": [
        "# 29) valid panidrom or not wile ignoring the non alphanumeric character\n",
        "import re\n",
        "\n",
        "def is_valid_palindrome(string):\n",
        "\n",
        "    alphanumeric_string = re.sub(r'\\W+', '', string)\n",
        "    lowercase_string = alphanumeric_string.lower()\n",
        "    return lowercase_string == lowercase_string[::-1]\n",
        "\n",
        "\n",
        "# Example usage\n",
        "string = \"A man, a plan, a canal: Panama\"\n",
        "result = is_valid_palindrome(string)\n",
        "print(\"Is the string a valid palindrome?\", result)"
      ],
      "metadata": {
        "colab": {
          "base_uri": "https://localhost:8080/"
        },
        "id": "igQ6-nDiFK_q",
        "outputId": "c5d08a59-9b0d-40e2-f3bf-befb18254530"
      },
      "execution_count": 81,
      "outputs": [
        {
          "output_type": "stream",
          "name": "stdout",
          "text": [
            "Is the string a valid palindrome? True\n"
          ]
        }
      ]
    },
    {
      "cell_type": "code",
      "source": [
        "# 30 ) find the minimum element in a rotated sorted list\n",
        "def find_minimum(nums):\n",
        "    left = 0\n",
        "    right = len(nums) - 1\n",
        "\n",
        "    # If the list is not rotated, return the first element\n",
        "    if nums[left] <= nums[right]:\n",
        "        return nums[left]\n",
        "\n",
        "    while left < right:\n",
        "        mid = left + (right - left) // 2\n",
        "\n",
        "        if nums[mid] > nums[mid + 1]:\n",
        "            return nums[mid + 1]\n",
        "\n",
        "        if nums[mid] >= nums[left]:\n",
        "            left = mid + 1\n",
        "        else:\n",
        "            right = mid\n",
        "\n",
        "    return nums[left]\n",
        "\n",
        "nums = [4, 5, 6, 7, 0, 1, 2]\n",
        "result = find_minimum(nums)\n",
        "print(\"Minimum element in the rotated sorted list:\", result)"
      ],
      "metadata": {
        "colab": {
          "base_uri": "https://localhost:8080/"
        },
        "id": "vI2yJ6GXIe3o",
        "outputId": "43f168c3-a75b-49e4-9c53-40f489c7a290"
      },
      "execution_count": 82,
      "outputs": [
        {
          "output_type": "stream",
          "name": "stdout",
          "text": [
            "Minimum element in the rotated sorted list: 0\n"
          ]
        }
      ]
    },
    {
      "cell_type": "code",
      "source": [
        "# 31) sum of even number in the list\n",
        "def evenSum(nums):\n",
        "    sum = 0\n",
        "    for i in nums:\n",
        "        if i % 2 == 0:\n",
        "            sum += i\n",
        "    return sum\n",
        "\n",
        "nums = [1,2,3,4,5,6,7,8,9,10]\n",
        "result = evenSum(nums)\n",
        "print('sum of even number in the list is :', result)"
      ],
      "metadata": {
        "colab": {
          "base_uri": "https://localhost:8080/"
        },
        "id": "8335AGIeJJrC",
        "outputId": "9b898fa1-15c1-49ec-c92c-2b3cd4b2abcd"
      },
      "execution_count": 83,
      "outputs": [
        {
          "output_type": "stream",
          "name": "stdout",
          "text": [
            "sum of even number in the list is : 30\n"
          ]
        }
      ]
    },
    {
      "cell_type": "code",
      "source": [
        "# 32 ) power of a number using recursion\n",
        "def pow(x, n):\n",
        "    if n == 0:\n",
        "        return 1\n",
        "    elif n == 1 :\n",
        "        return x\n",
        "    elif n < 1:\n",
        "        x = 1/x\n",
        "        n = -n\n",
        "        return pow(x, n)\n",
        "    else :\n",
        "        mid = n // 2\n",
        "        b = pow(x, mid)\n",
        "        result = b * b\n",
        "        if n%2 == 0:\n",
        "            return result\n",
        "        else :\n",
        "            return x * result\n",
        "\n",
        "x = 2\n",
        "n = 11\n",
        "result = pow(x, n)\n",
        "print(result)"
      ],
      "metadata": {
        "colab": {
          "base_uri": "https://localhost:8080/"
        },
        "id": "A4pbkySmJtc3",
        "outputId": "36e7e5bc-cb51-47e6-a9fa-102d52659425"
      },
      "execution_count": 87,
      "outputs": [
        {
          "output_type": "stream",
          "name": "stdout",
          "text": [
            "2048\n"
          ]
        }
      ]
    },
    {
      "cell_type": "code",
      "source": [
        "# 33 ) remove duplicate while preserving the order\n",
        "def removeDuplicates(lst):\n",
        "    seen = set()\n",
        "    result = []\n",
        "    for item in lst:\n",
        "        if item not in seen:\n",
        "            result.append(item)\n",
        "            seen.add(item)\n",
        "    return result\n",
        "\n",
        "\n",
        "# Example usage\n",
        "lst = [1, 2, 3, 2, 4, 1, 5, 6, 3]\n",
        "result = removeDuplicates(lst)\n",
        "print(\"List with duplicates removed:\", result)"
      ],
      "metadata": {
        "colab": {
          "base_uri": "https://localhost:8080/"
        },
        "id": "Cuy1gHoyLGcJ",
        "outputId": "878806ad-7375-455a-ccf3-dfe435eb87ee"
      },
      "execution_count": 88,
      "outputs": [
        {
          "output_type": "stream",
          "name": "stdout",
          "text": [
            "List with duplicates removed: [1, 2, 3, 4, 5, 6]\n"
          ]
        }
      ]
    },
    {
      "cell_type": "code",
      "source": [
        "# 34) find longest common prefix\n",
        "def longestCommonPrefix(strs):\n",
        "    if not strs:\n",
        "        return \"\"\n",
        "\n",
        "    min_len = min(len(s) for s in strs)\n",
        "    longest_prefix = \"\"\n",
        "\n",
        "    for i in range(min_len):\n",
        "        common_char = strs[0][i]\n",
        "        for s in strs:\n",
        "            if s[i] != common_char:\n",
        "                return longest_prefix\n",
        "        longest_prefix += common_char\n",
        "\n",
        "    return longest_prefix\n",
        "\n",
        "\n",
        "# Example usage\n",
        "strings = [\"flower\", \"flow\", \"flight\"]\n",
        "result = longestCommonPrefix(strings)\n",
        "print(\"Longest common prefix:\", result)\n"
      ],
      "metadata": {
        "colab": {
          "base_uri": "https://localhost:8080/"
        },
        "id": "arG5Y5qxWp0K",
        "outputId": "19373079-ce57-4f4e-a356-20722b5376cd"
      },
      "execution_count": 89,
      "outputs": [
        {
          "output_type": "stream",
          "name": "stdout",
          "text": [
            "Longest common prefix: fl\n"
          ]
        }
      ]
    },
    {
      "cell_type": "code",
      "source": [
        "# 35) check if number is a perfect square\n",
        "import math\n",
        "\n",
        "def isPerfectSquare(number):\n",
        "    sqrt = math.sqrt(number)\n",
        "    return sqrt == int(sqrt)\n",
        "\n",
        "\n",
        "# Example usage\n",
        "number = 17\n",
        "result = isPerfectSquare(number)\n",
        "print(\"Is the number a perfect square?\", result)"
      ],
      "metadata": {
        "colab": {
          "base_uri": "https://localhost:8080/"
        },
        "id": "NLH0CQfXXRRC",
        "outputId": "0542e2af-bce1-4f34-93df-4f701445470b"
      },
      "execution_count": 91,
      "outputs": [
        {
          "output_type": "stream",
          "name": "stdout",
          "text": [
            "Is the number a perfect square? False\n"
          ]
        }
      ]
    },
    {
      "cell_type": "code",
      "source": [
        "# 36 ) product of all element in list\n",
        "def prodList(nums):\n",
        "    product = 1\n",
        "    for i in nums:\n",
        "        product *= i\n",
        "    return product\n",
        "\n",
        "nums = [1,2,3,4,5,6,7,8]\n",
        "res = prodList(nums)\n",
        "print(res)"
      ],
      "metadata": {
        "colab": {
          "base_uri": "https://localhost:8080/"
        },
        "id": "Y5J_Xw0DZOXV",
        "outputId": "a80513b7-08f4-4362-f03e-f1674d2f026c"
      },
      "execution_count": 92,
      "outputs": [
        {
          "output_type": "stream",
          "name": "stdout",
          "text": [
            "40320\n"
          ]
        }
      ]
    },
    {
      "cell_type": "code",
      "source": [
        "# 37) reverse the order of the word in a sentence while preserve the word order\n",
        "def reverseWords(sentence):\n",
        "    words = sentence.split()\n",
        "    reversed_words = words[::-1]\n",
        "    reversed_sentence = ' '.join(reversed_words)\n",
        "    return reversed_sentence\n",
        "\n",
        "\n",
        "# Example usage\n",
        "sentence = \"Hello! How are you?\"\n",
        "result = reverseWords(sentence)\n",
        "print(\"Reversed sentence:\", result)\n"
      ],
      "metadata": {
        "colab": {
          "base_uri": "https://localhost:8080/"
        },
        "id": "0finIy2GZ2m0",
        "outputId": "625ccf07-6b2c-4b06-a2d5-f9892db765ae"
      },
      "execution_count": 94,
      "outputs": [
        {
          "output_type": "stream",
          "name": "stdout",
          "text": [
            "Reversed sentence: you? are How Hello!\n"
          ]
        }
      ]
    },
    {
      "cell_type": "code",
      "source": [
        "# 38) find the missing number in a given list of consecutive number\n",
        "def findMissingNumber(numbers):\n",
        "    n = len(numbers) + 1\n",
        "    expected_sum = (n * (n + 1)) // 2\n",
        "    actual_sum = sum(numbers)\n",
        "    missing_number = expected_sum - actual_sum\n",
        "    return missing_number\n",
        "\n",
        "\n",
        "\n",
        "numbers = [1, 2, 3, 5, 6, 7, 8]\n",
        "result = findMissingNumber(numbers)\n",
        "print(\"Missing number:\", result)"
      ],
      "metadata": {
        "colab": {
          "base_uri": "https://localhost:8080/"
        },
        "id": "Yqu0mZmlZ-pR",
        "outputId": "a4aea521-ed07-4f60-bc9f-5d7c7ab659b4"
      },
      "execution_count": 100,
      "outputs": [
        {
          "output_type": "stream",
          "name": "stdout",
          "text": [
            "Missing number: 4\n"
          ]
        }
      ]
    },
    {
      "cell_type": "code",
      "source": [
        "# 39) sum of digits of a given number\n",
        "def sumOfDigits(number):\n",
        "    sum = 0\n",
        "    while number > 0:\n",
        "        digit = number % 10\n",
        "        sum += digit\n",
        "        number //= 10\n",
        "    return sum\n",
        "\n",
        "\n",
        "# Example usage\n",
        "number = 986734\n",
        "result = sumOfDigits(number)\n",
        "print(\"Sum of digits:\", result)"
      ],
      "metadata": {
        "colab": {
          "base_uri": "https://localhost:8080/"
        },
        "id": "LkDK2edCbjFA",
        "outputId": "52017baf-2f4b-4ed9-bcb0-d36b5bdb452d"
      },
      "execution_count": 106,
      "outputs": [
        {
          "output_type": "stream",
          "name": "stdout",
          "text": [
            "Sum of digits: 37\n"
          ]
        }
      ]
    },
    {
      "cell_type": "code",
      "source": [
        "# 40) check if the string is valid palindrom\n",
        "def isPalindrom(string):\n",
        "    string = string.lower()\n",
        "    reverse_str = string[::-1]\n",
        "    return string == reverse_str\n",
        "\n",
        "string = 'Aibohphobia'\n",
        "print(isPalindrom(string))"
      ],
      "metadata": {
        "colab": {
          "base_uri": "https://localhost:8080/"
        },
        "id": "lVahKGrfcGZB",
        "outputId": "2a287a47-e8b9-4230-c145-aab4115f87db"
      },
      "execution_count": 107,
      "outputs": [
        {
          "output_type": "stream",
          "name": "stdout",
          "text": [
            "True\n"
          ]
        }
      ]
    },
    {
      "cell_type": "code",
      "source": [
        "#41) find smallest missing positive integer in a list\n",
        "def find_smallest_missing_positive(nums):\n",
        "    n = len(nums)\n",
        "\n",
        "\n",
        "    for i in range(n):\n",
        "        while 1 <= nums[i] <= n and nums[nums[i] - 1] != nums[i]:\n",
        "\n",
        "            nums[nums[i] - 1], nums[i] = nums[i], nums[nums[i] - 1]\n",
        "\n",
        "    for i in range(n):\n",
        "        if nums[i] != i + 1:\n",
        "            return i + 1\n",
        "\n",
        "    return n + 1\n",
        "\n",
        "\n",
        "\n",
        "nums = [3, 4, 1]\n",
        "result = find_smallest_missing_positive(nums)\n",
        "print(\"Smallest missing positive integer:\", result)\n"
      ],
      "metadata": {
        "colab": {
          "base_uri": "https://localhost:8080/"
        },
        "id": "TPRgTENMcNU_",
        "outputId": "26634be5-6d87-4b77-bf80-1a61912e276f"
      },
      "execution_count": 115,
      "outputs": [
        {
          "output_type": "stream",
          "name": "stdout",
          "text": [
            "Smallest missing positive integer: 2\n"
          ]
        }
      ]
    },
    {
      "cell_type": "code",
      "source": [
        "# 43) no of occurence of a given element in a list\n",
        "from collections import Counter\n",
        "def noOfOccurence(nums):\n",
        "    count = Counter(nums)\n",
        "    #print(count)\n",
        "    return count\n",
        "\n",
        "nums = [1,1,2,1,1,2,3,4,3,2,3,2,3,3]\n",
        "result = noOfOccurence(nums)\n",
        "for i , counts in result.items():\n",
        "    print('no of occurance of ',i ,':  is ', counts)"
      ],
      "metadata": {
        "colab": {
          "base_uri": "https://localhost:8080/"
        },
        "id": "hbUOQ80feQXT",
        "outputId": "8405b6f6-5ac2-4aeb-ec1b-c066c50ba004"
      },
      "execution_count": 111,
      "outputs": [
        {
          "output_type": "stream",
          "name": "stdout",
          "text": [
            "no of occurance of  1 :  is  4\n",
            "no of occurance of  2 :  is  4\n",
            "no of occurance of  3 :  is  5\n",
            "no of occurance of  4 :  is  1\n"
          ]
        }
      ]
    },
    {
      "cell_type": "code",
      "source": [
        "# 44) check if the given number is a perfect number\n",
        "def isPerfectNumber(number):\n",
        "    if number <= 0:\n",
        "        return False\n",
        "\n",
        "    sum_divisors = 0\n",
        "    for i in range(1, number):\n",
        "        if number % i == 0:\n",
        "            sum_divisors += i\n",
        "\n",
        "    return sum_divisors == number\n",
        "\n",
        "\n",
        "# Example usage\n",
        "number = 29\n",
        "result = isPerfectNumber(number)\n",
        "print(\"Is perfect number:\", result)\n"
      ],
      "metadata": {
        "colab": {
          "base_uri": "https://localhost:8080/"
        },
        "id": "IJjOxSH_gaZ0",
        "outputId": "6f7e5dd9-95ab-4e8c-ddd5-6d3835e7a24e"
      },
      "execution_count": 113,
      "outputs": [
        {
          "output_type": "stream",
          "name": "stdout",
          "text": [
            "Is perfect number: False\n"
          ]
        }
      ]
    },
    {
      "cell_type": "code",
      "source": [
        "# 45) remove all duplicate from a string\n",
        "def removeDuplicates(string):\n",
        "    unique_chars = \"\"\n",
        "    for char in string:\n",
        "        if char not in unique_chars:\n",
        "            unique_chars += char\n",
        "    return unique_chars\n",
        "\n",
        "\n",
        "string = \"abracadabra\"\n",
        "result = removeDuplicates(string)\n",
        "print(\"String with duplicates removed:\", result)"
      ],
      "metadata": {
        "colab": {
          "base_uri": "https://localhost:8080/"
        },
        "id": "BdronjmehAZB",
        "outputId": "ebbf3d75-5554-482d-c88c-0c490c93f822"
      },
      "execution_count": 114,
      "outputs": [
        {
          "output_type": "stream",
          "name": "stdout",
          "text": [
            "String with duplicates removed: abrcd\n"
          ]
        }
      ]
    }
  ]
}