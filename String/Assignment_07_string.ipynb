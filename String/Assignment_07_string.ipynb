{
  "nbformat": 4,
  "nbformat_minor": 0,
  "metadata": {
    "colab": {
      "provenance": [],
      "authorship_tag": "ABX9TyODVd39fl0Uya7txCZVTVKA",
      "include_colab_link": true
    },
    "kernelspec": {
      "name": "python3",
      "display_name": "Python 3"
    },
    "language_info": {
      "name": "python"
    }
  },
  "cells": [
    {
      "cell_type": "markdown",
      "metadata": {
        "id": "view-in-github",
        "colab_type": "text"
      },
      "source": [
        "<a href=\"https://colab.research.google.com/github/Deba1597/DSA_PPT_Assignment/blob/main/String/Assignment_07_string.ipynb\" target=\"_parent\"><img src=\"https://colab.research.google.com/assets/colab-badge.svg\" alt=\"Open In Colab\"/></a>"
      ]
    },
    {
      "cell_type": "markdown",
      "source": [
        "#1\n",
        "Given two strings s and t, *determine if they are isomorphic*.\n",
        "\n",
        "Two strings s and t are isomorphic if the characters in s can be replaced to get t.\n",
        "\n",
        "All occurrences of a character must be replaced with another character while preserving the order of characters. No two characters may map to the same character, but a character may map to itself.\n",
        "\n",
        "**Example 1:**\n",
        "\n",
        "**Input:** s = \"egg\", t = \"add\"\n",
        "\n",
        "**Output:** true"
      ],
      "metadata": {
        "id": "qJxgMZ5UdW-a"
      }
    },
    {
      "cell_type": "code",
      "execution_count": 13,
      "metadata": {
        "colab": {
          "base_uri": "https://localhost:8080/"
        },
        "id": "i0n65qFLHKux",
        "outputId": "1646f2c8-0fa0-49cc-9fa4-da10507ec2d6"
      },
      "outputs": [
        {
          "output_type": "stream",
          "name": "stdout",
          "text": [
            "True\n"
          ]
        }
      ],
      "source": [
        "def isIsomorphic(s, t):\n",
        "    if len(s) != len(t):\n",
        "        return False\n",
        "\n",
        "    s_to_t = {}\n",
        "    t_to_s = {}\n",
        "\n",
        "    for i in range(len(s)):\n",
        "        if s[i] not in s_to_t and t[i] not in t_to_s:\n",
        "            s_to_t[s[i]] = t[i]\n",
        "            t_to_s[t[i]] = s[i]\n",
        "        elif s[i] in s_to_t and s_to_t[s[i]] != t[i]:\n",
        "            return False\n",
        "        elif t[i] in t_to_s and t_to_s[t[i]] != s[i]:\n",
        "            return False\n",
        "\n",
        "    return True\n",
        "\n",
        "s = \"egg\"\n",
        "t = \"add\"\n",
        "print(isIsomorphic(s, t))"
      ]
    },
    {
      "cell_type": "markdown",
      "source": [
        "#2\n",
        "Given a string num which represents an integer, return true *if* num *is a **strobogrammatic number***.\n",
        "\n",
        "A **strobogrammatic number** is a number that looks the same when rotated 180 degrees (looked at upside down).\n",
        "\n",
        "**Example 1:**\n",
        "\n",
        "**Input:** num = \"69\"\n",
        "\n",
        "**Output:**true"
      ],
      "metadata": {
        "id": "2O1n9klpdaZK"
      }
    },
    {
      "cell_type": "code",
      "source": [
        "def isStrobogrammatic(num):\n",
        "    mapping = {\n",
        "        '0': '0',\n",
        "        '1': '1',\n",
        "        '6': '9',\n",
        "        '8': '8',\n",
        "        '9': '6'\n",
        "    }\n",
        "\n",
        "    left, right = 0, len(num) - 1\n",
        "\n",
        "    while left <= right:\n",
        "        if num[left] not in mapping or num[right] not in mapping or num[left] != mapping[num[right]]:\n",
        "            return False\n",
        "\n",
        "        left += 1\n",
        "        right -= 1\n",
        "\n",
        "    return True\n",
        "\n",
        "num = \"69\"\n",
        "print(isStrobogrammatic(num))\n"
      ],
      "metadata": {
        "colab": {
          "base_uri": "https://localhost:8080/"
        },
        "id": "FjQdDEpQNpRe",
        "outputId": "8e30e99e-ef83-45ad-997c-de78c8ff6f67"
      },
      "execution_count": 14,
      "outputs": [
        {
          "output_type": "stream",
          "name": "stdout",
          "text": [
            "True\n"
          ]
        }
      ]
    },
    {
      "cell_type": "markdown",
      "source": [
        "# 3\n",
        "Given two non-negative integers, num1 and num2 represented as string, return *the sum of* num1 *and* num2 *as a string*.\n",
        "\n",
        "You must solve the problem without using any built-in library for handling large integers (such as BigInteger). You must also not convert the inputs to integers directly.\n",
        "\n",
        "**Example 1:**\n",
        "\n",
        "**Input:** num1 = \"11\", num2 = \"123\"\n",
        "\n",
        "**Output:**\"134\""
      ],
      "metadata": {
        "id": "JLqhnPBRdhIa"
      }
    },
    {
      "cell_type": "code",
      "source": [
        "def addStrings(num1, num2):\n",
        "    i = len(num1) - 1\n",
        "    j = len(num2) - 1\n",
        "    carry = 0\n",
        "    result = \"\"\n",
        "\n",
        "    while i >= 0 or j >= 0:\n",
        "        digit1 = int(num1[i]) if i >= 0 else 0\n",
        "        digit2 = int(num2[j]) if j >= 0 else 0\n",
        "\n",
        "        digit_sum = digit1 + digit2 + carry\n",
        "\n",
        "        carry = digit_sum // 10\n",
        "        digit = digit_sum % 10\n",
        "\n",
        "        result += str(digit)\n",
        "\n",
        "        i -= 1\n",
        "        j -= 1\n",
        "\n",
        "    if carry:\n",
        "        result += str(carry)\n",
        "\n",
        "    result = result[::-1]\n",
        "\n",
        "    return result\n",
        "\n",
        "num1 = \"11\"\n",
        "num2 = \"123\"\n",
        "print(addStrings(num1, num2))"
      ],
      "metadata": {
        "colab": {
          "base_uri": "https://localhost:8080/"
        },
        "id": "eoIe8S64QpQE",
        "outputId": "b703d061-c716-4bf2-8ac1-aa6fa277bec3"
      },
      "execution_count": 15,
      "outputs": [
        {
          "output_type": "stream",
          "name": "stdout",
          "text": [
            "134\n"
          ]
        }
      ]
    },
    {
      "cell_type": "markdown",
      "source": [
        "# 4\n",
        "Given a string s, reverse the order of characters in each word within a sentence while still preserving whitespace and initial word order.\n",
        "\n",
        "**Example 1:**\n",
        "\n",
        "**Input:** s = \"Let's take LeetCode contest\"\n",
        "\n",
        "**Output:** \"s'teL ekat edoCteeL tsetnoc\""
      ],
      "metadata": {
        "id": "n8VrZhHedxbm"
      }
    },
    {
      "cell_type": "code",
      "source": [
        "def reverseWords(s):\n",
        "    words = s.split()\n",
        "    reversed_words = [word[::-1] for word in words]\n",
        "    result = \" \".join(reversed_words)\n",
        "    return result\n",
        "\n",
        "s = \"Let's take LeetCode contest\"\n",
        "print(reverseWords(s))"
      ],
      "metadata": {
        "colab": {
          "base_uri": "https://localhost:8080/"
        },
        "id": "oDqKwDfrQpMn",
        "outputId": "5d3639f6-d078-49d2-adcb-102fadab94c9"
      },
      "execution_count": 16,
      "outputs": [
        {
          "output_type": "stream",
          "name": "stdout",
          "text": [
            "s'teL ekat edoCteeL tsetnoc\n"
          ]
        }
      ]
    },
    {
      "cell_type": "markdown",
      "source": [
        "# 5\n",
        "Given a string s and an integer k, reverse the first k characters for every 2k characters counting from the start of the string.\n",
        "\n",
        "If there are fewer than k characters left, reverse all of them. If there are less than 2k but greater than or equal to k characters, then reverse the first k characters and leave the other as original.\n",
        "\n",
        "**Example 1:**\n",
        "\n",
        "**Input:** s = \"abcdefg\", k = 2\n",
        "\n",
        "**Output:**\"bacdfeg\""
      ],
      "metadata": {
        "id": "eKPBjg-ud5ry"
      }
    },
    {
      "cell_type": "code",
      "source": [
        "def reverseStr(s, k):\n",
        "    char_list = list(s)\n",
        "    start = 0\n",
        "\n",
        "    while start < len(char_list):\n",
        "        end = min(start + k - 1, len(char_list) - 1)\n",
        "\n",
        "        # Reverse characters between start and end\n",
        "        left = start\n",
        "        right = end\n",
        "        while left < right:\n",
        "            char_list[left], char_list[right] = char_list[right], char_list[left]\n",
        "            left += 1\n",
        "            right -= 1\n",
        "\n",
        "        start += 2 * k\n",
        "\n",
        "    return \"\".join(char_list)\n",
        "\n",
        "s = \"abcdefg\"\n",
        "k = 2\n",
        "print(reverseStr(s, k))"
      ],
      "metadata": {
        "colab": {
          "base_uri": "https://localhost:8080/"
        },
        "id": "PA95buLeQpKT",
        "outputId": "fe768544-2687-4f5d-a3aa-2c12f9aa90e9"
      },
      "execution_count": 17,
      "outputs": [
        {
          "output_type": "stream",
          "name": "stdout",
          "text": [
            "bacdfeg\n"
          ]
        }
      ]
    },
    {
      "cell_type": "markdown",
      "source": [
        "#6\n",
        "Given two strings s and goal, return true *if and only if* s *can become* goal *after some number of **shifts** on* s.\n",
        "\n",
        "A **shift** on s consists of moving the leftmost character of s to the rightmost position.\n",
        "\n",
        "- For example, if s = \"abcde\", then it will be \"bcdea\" after one shift.\n",
        "\n",
        "**Example 1:**\n",
        "\n",
        "**Input:** s = \"abcde\", goal = \"cdeab\"\n",
        "\n",
        "**Output:**true"
      ],
      "metadata": {
        "id": "krnFuEE3eM_u"
      }
    },
    {
      "cell_type": "code",
      "source": [
        "def rotateString(s, goal):\n",
        "    if len(s) != len(goal):\n",
        "        return False\n",
        "\n",
        "    s_double = s + s\n",
        "\n",
        "    if goal in s_double:\n",
        "        return True\n",
        "    else:\n",
        "        return False\n",
        "\n",
        "s = \"abcde\"\n",
        "goal = \"cdeab\"\n",
        "print(rotateString(s, goal))\n"
      ],
      "metadata": {
        "colab": {
          "base_uri": "https://localhost:8080/"
        },
        "id": "es2qfPzRctvn",
        "outputId": "8764dad4-39a7-4daf-90c2-430f520f94f4"
      },
      "execution_count": 18,
      "outputs": [
        {
          "output_type": "stream",
          "name": "stdout",
          "text": [
            "True\n"
          ]
        }
      ]
    },
    {
      "cell_type": "markdown",
      "source": [
        "# 7\n",
        "Given two strings s and t, return true *if they are equal when both are typed into empty text editors*. '#' means a backspace character.\n",
        "\n",
        "Note that after backspacing an empty text, the text will continue empty.\n",
        "\n",
        "**Example 1:**\n",
        "\n",
        "**Input:** s = \"ab#c\", t = \"ad#c\"\n",
        "\n",
        "**Output:** true\n",
        "\n",
        "**Explanation:** Both s and t become \"ac\""
      ],
      "metadata": {
        "id": "VgKafS0PebHW"
      }
    },
    {
      "cell_type": "code",
      "source": [
        "def backspaceCompare(s, t):\n",
        "    def processString(s):\n",
        "        stack = []\n",
        "        for char in s:\n",
        "            if char != '#':\n",
        "                stack.append(char)\n",
        "            elif stack:\n",
        "                stack.pop()\n",
        "        return \"\".join(stack)\n",
        "\n",
        "    processed_s = processString(s)\n",
        "    processed_t = processString(t)\n",
        "\n",
        "    return processed_s == processed_t\n",
        "\n",
        "s = \"ab#c\"\n",
        "t = \"ad#c\"\n",
        "print(backspaceCompare(s, t))\n"
      ],
      "metadata": {
        "colab": {
          "base_uri": "https://localhost:8080/"
        },
        "id": "4BlE5ajbctl_",
        "outputId": "54208aa2-3b65-4b68-e892-c64afb8033a7"
      },
      "execution_count": 19,
      "outputs": [
        {
          "output_type": "stream",
          "name": "stdout",
          "text": [
            "True\n"
          ]
        }
      ]
    },
    {
      "cell_type": "markdown",
      "source": [
        "#8\n",
        "You are given an array coordinates, coordinates[i] = [x, y], where [x, y] represents the coordinate of a point. Check if these points make a straight line in the XY plane.  \n",
        "**Input:** coordinates = [[1,2],[2,3],[3,4],[4,5],[5,6],[6,7]]\n",
        "\n",
        "**Output:** true"
      ],
      "metadata": {
        "id": "tULJfH59ekVw"
      }
    },
    {
      "cell_type": "code",
      "source": [
        "def checkStraightLine(coordinates):\n",
        "    coord1 = coordinates[0]\n",
        "    coord2 = coordinates[1]\n",
        "    slope = (coord2[1] - coord1[1]) / (coord2[0] - coord1[0])\n",
        "\n",
        "    for i in range(2, len(coordinates)):\n",
        "        coord = coordinates[i]\n",
        "        curr_slope = (coord[1] - coord1[1]) / (coord[0] - coord1[0])\n",
        "        if slope != curr_slope:\n",
        "            return False\n",
        "\n",
        "    return True\n",
        "\n",
        "coordinates = [[1,2],[2,3],[3,4],[4,5],[5,6],[6,7]]\n",
        "print(checkStraightLine(coordinates))"
      ],
      "metadata": {
        "colab": {
          "base_uri": "https://localhost:8080/"
        },
        "id": "ZYn5OO8ZdCYr",
        "outputId": "07aa8088-c4c1-4fcb-d68f-914180a10cb0"
      },
      "execution_count": 20,
      "outputs": [
        {
          "output_type": "stream",
          "name": "stdout",
          "text": [
            "True\n"
          ]
        }
      ]
    },
    {
      "cell_type": "code",
      "source": [],
      "metadata": {
        "id": "JztcH1sFdFys"
      },
      "execution_count": 20,
      "outputs": []
    }
  ]
}