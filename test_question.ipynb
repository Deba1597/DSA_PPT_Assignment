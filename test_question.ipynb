{
  "nbformat": 4,
  "nbformat_minor": 0,
  "metadata": {
    "colab": {
      "provenance": [],
      "authorship_tag": "ABX9TyNAuT5W16vrYWtSA/79fq8c",
      "include_colab_link": true
    },
    "kernelspec": {
      "name": "python3",
      "display_name": "Python 3"
    },
    "language_info": {
      "name": "python"
    }
  },
  "cells": [
    {
      "cell_type": "markdown",
      "metadata": {
        "id": "view-in-github",
        "colab_type": "text"
      },
      "source": [
        "<a href=\"https://colab.research.google.com/github/Deba1597/DSA_PPT_Assignment/blob/main/test_question.ipynb\" target=\"_parent\"><img src=\"https://colab.research.google.com/assets/colab-badge.svg\" alt=\"Open In Colab\"/></a>"
      ]
    },
    {
      "cell_type": "code",
      "execution_count": 4,
      "metadata": {
        "colab": {
          "base_uri": "https://localhost:8080/"
        },
        "id": "YSs6i4HLGGW9",
        "outputId": "f6ef0fce-8ce7-4acc-dcad-71b403a24a0a"
      },
      "outputs": [
        {
          "output_type": "stream",
          "name": "stdout",
          "text": [
            "1 : [1, 3, 12, 0, 0]\n",
            "2 : [0]\n"
          ]
        }
      ],
      "source": [
        "def moveZero(nums):\n",
        "    \"\"\"\n",
        "    Do not return anything, modify nums in-place instead.\n",
        "    \"\"\"\n",
        "    low = 0\n",
        "    for i in range(len(nums)):\n",
        "        if nums[i] != 0 and nums[low] == 0:\n",
        "            nums[low], nums[i] = nums[i], nums[low]\n",
        "\n",
        "        if nums[low] != 0:\n",
        "            low += 1\n",
        "    return nums\n",
        "# driver code\n",
        "nums =[0,1,0,3,12]\n",
        "print(\"1 :\",moveZero(nums))\n",
        "nums1 = [0]\n",
        "print(\"2 :\",moveZero(nums1))"
      ]
    },
    {
      "cell_type": "code",
      "source": [],
      "metadata": {
        "id": "WwxNO0P9GJqr"
      },
      "execution_count": null,
      "outputs": []
    },
    {
      "cell_type": "code",
      "source": [
        "from collections import Counter\n",
        "def firstUniqChar(s: str) -> int:\n",
        "    counter = Counter(s)\n",
        "    for i, c in enumerate(s):\n",
        "        if counter[c] == 1:\n",
        "            return i\n",
        "\n",
        "    return -1\n",
        "print('1 :',firstUniqChar('leetcode'))\n",
        "print('2 :',firstUniqChar('loveleetcode'))\n",
        "print('3 :',firstUniqChar('aabb') )"
      ],
      "metadata": {
        "colab": {
          "base_uri": "https://localhost:8080/"
        },
        "id": "-fhABZTnGJuS",
        "outputId": "67f3d114-6b22-4381-9b8b-eee8e74a067d"
      },
      "execution_count": 6,
      "outputs": [
        {
          "output_type": "stream",
          "name": "stdout",
          "text": [
            "1 : 0\n",
            "2 : 2\n",
            "3 : -1\n"
          ]
        }
      ]
    },
    {
      "cell_type": "code",
      "source": [],
      "metadata": {
        "id": "n5m_TE_3HcsS"
      },
      "execution_count": null,
      "outputs": []
    }
  ]
}