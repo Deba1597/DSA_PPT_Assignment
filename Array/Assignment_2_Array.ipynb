{
  "nbformat": 4,
  "nbformat_minor": 0,
  "metadata": {
    "colab": {
      "provenance": [],
      "authorship_tag": "ABX9TyNWDUxjDE7Q6RJfI0wSumWI",
      "include_colab_link": true
    },
    "kernelspec": {
      "name": "python3",
      "display_name": "Python 3"
    },
    "language_info": {
      "name": "python"
    }
  },
  "cells": [
    {
      "cell_type": "markdown",
      "metadata": {
        "id": "view-in-github",
        "colab_type": "text"
      },
      "source": [
        "<a href=\"https://colab.research.google.com/github/Deba1597/DSA_PPT_Assignment/blob/main/Array/Assignment_2_Array.ipynb\" target=\"_parent\"><img src=\"https://colab.research.google.com/assets/colab-badge.svg\" alt=\"Open In Colab\"/></a>"
      ]
    },
    {
      "cell_type": "markdown",
      "source": [
        "#1\n",
        "<br>Given an integer array nums of 2n integers, group these integers into n pairs (a1, b1), (a2, b2),..., (an, bn) such that the sum of min(ai, bi) for all i is maximized. Return the maximized sum.\n",
        "\n",
        "**Example 1:**\n",
        "<br>Input: nums = [1,4,3,2]\n",
        "<br>Output: 4\n",
        "\n",
        "**Explanation:**\n",
        "<br>All possible pairings (ignoring the ordering of elements) are:\n",
        "\n",
        "1. (1, 4), (2, 3) -> min(1, 4) + min(2, 3) = 1 + 2 = 3\n",
        "2. (1, 3), (2, 4) -> min(1, 3) + min(2, 4) = 1 + 2 = 3\n",
        "3. (1, 2), (3, 4) -> min(1, 2) + min(3, 4) = 1 + 3 = 4\n",
        "<br>So the maximum possible sum is 4"
      ],
      "metadata": {
        "id": "IMRea508ie0b"
      }
    },
    {
      "cell_type": "code",
      "execution_count": 18,
      "metadata": {
        "colab": {
          "base_uri": "https://localhost:8080/"
        },
        "id": "3Q3K1Cl8iO-_",
        "outputId": "741ddc60-322d-4869-bd26-6d04ef831f1b"
      },
      "outputs": [
        {
          "output_type": "stream",
          "name": "stdout",
          "text": [
            "4\n"
          ]
        }
      ],
      "source": [
        "def arrayPairSum(nums):\n",
        "    nums.sort()  # Sort the array in ascending order\n",
        "    max_sum = 0\n",
        "    for i in range(0, len(nums), 2):\n",
        "        max_sum += nums[i]\n",
        "        #print(max_sum)\n",
        "    return max_sum\n",
        "\n",
        "# Driver code\n",
        "nums = [1, 4, 3, 2]\n",
        "print(arrayPairSum(nums))"
      ]
    },
    {
      "cell_type": "markdown",
      "source": [
        "# 2\n",
        "Alice has n candies, where the ith candy is of type candyType[i]. Alice noticed that she started to gain weight, so she visited a doctor.\n",
        "\n",
        "The doctor advised Alice to only eat n / 2 of the candies she has (n is always even). Alice likes her candies very much, and she wants to eat the maximum number of different types of candies while still following the doctor's advice.\n",
        "\n",
        "Given the integer array candyType of length n, return the maximum number of different types of candies she can eat if she only eats n / 2 of them.\n",
        "\n",
        "Example 1:\n",
        "<br>Input: candyType = [1,1,2,2,3,3]\n",
        "<br>Output: 3\n"
      ],
      "metadata": {
        "id": "y1tXG-iUXhoG"
      }
    },
    {
      "cell_type": "code",
      "source": [
        "def max_candies(candyType):\n",
        "    uniqueCandies = set()\n",
        "    for i in candyType:\n",
        "        uniqueCandies.add(i)\n",
        "    return min(len(uniqueCandies), len(candyType) // 2)\n",
        "\n",
        "# Driver Code\n",
        "candyType = [1, 1, 2, 2, 3, 3]\n",
        "print(max_candies(candyType))"
      ],
      "metadata": {
        "id": "bl-_9GdckFmI",
        "colab": {
          "base_uri": "https://localhost:8080/"
        },
        "outputId": "5dda242c-384a-41d8-ae87-d7a0b557ab91"
      },
      "execution_count": 19,
      "outputs": [
        {
          "output_type": "stream",
          "name": "stdout",
          "text": [
            "3\n"
          ]
        }
      ]
    },
    {
      "cell_type": "markdown",
      "source": [
        "# 3\n",
        "We define a harmonious array as an array where the difference between its maximum value\n",
        "and its minimum value is exactly 1.\n",
        "\n",
        "Given an integer array nums, return the length of its longest harmonious subsequence\n",
        "among all its possible subsequences.\n",
        "\n",
        "A subsequence of an array is a sequence that can be derived from the array by deleting some or no elements without changing the order of the remaining elements.\n",
        "\n",
        "Example 1:\n",
        "<br>Input: nums = [1,3,2,2,5,2,3,7]\n",
        "<br>Output: 5"
      ],
      "metadata": {
        "id": "wiwccwhfYj3Z"
      }
    },
    {
      "cell_type": "code",
      "source": [],
      "metadata": {
        "id": "4Wh00DA9nw5T"
      },
      "execution_count": null,
      "outputs": []
    },
    {
      "cell_type": "markdown",
      "source": [
        "# 4\n",
        "You have a long flowerbed in which some of the plots are planted, and some are not.\n",
        "However, flowers cannot be planted in adjacent plots.\n",
        "Given an integer array flowerbed containing 0's and 1's, where 0 means empty and 1 means not empty, and an integer n, return true if n new flowers can be planted in the flowerbed without violating the no-adjacent-flowers rule and false otherwise.\n",
        "\n",
        "Example 1:\n",
        "<br>Input: flowerbed = [1,0,0,0,1], n = 1\n",
        "<br>Output: true"
      ],
      "metadata": {
        "id": "z_T7dX-HYrgt"
      }
    },
    {
      "cell_type": "code",
      "source": [
        "def canPlaceFlowers(flowerbed, n):\n",
        "    count = 0\n",
        "    length = len(flowerbed)\n",
        "\n",
        "    for i in range(length):\n",
        "        if flowerbed[i] == 0:\n",
        "            if i == 0 or flowerbed[i - 1] == 0:\n",
        "                if i == length - 1 or flowerbed[i + 1] == 0:\n",
        "                    flowerbed[i] = 1\n",
        "                    count += 1\n",
        "        if count >= n:\n",
        "            return True\n",
        "    return False\n",
        "\n",
        "# Driver Code\n",
        "flowerbed = [1, 0, 0, 0, 1]\n",
        "n = 1\n",
        "print(canPlaceFlowers(flowerbed, n))"
      ],
      "metadata": {
        "colab": {
          "base_uri": "https://localhost:8080/"
        },
        "id": "lT9X3Y9wY1x4",
        "outputId": "0c6b8444-93ec-4c41-de04-5d1a1f8b96d7"
      },
      "execution_count": 20,
      "outputs": [
        {
          "output_type": "stream",
          "name": "stdout",
          "text": [
            "True\n"
          ]
        }
      ]
    },
    {
      "cell_type": "markdown",
      "source": [
        "# 5\n",
        "Given an integer array nums, find three numbers whose product is maximum and return the maximum product.\n",
        "\n",
        "Example 1:\n",
        "<br>Input: nums = [1,2,3]\n",
        "<br>Output: 6"
      ],
      "metadata": {
        "id": "qFfDmY0cZtE7"
      }
    },
    {
      "cell_type": "code",
      "source": [
        "def maximumProduct(nums):\n",
        "    nums.sort()\n",
        "    max_product = nums[-1] * nums[-2] * nums[-3]\n",
        "    alt_product = nums[0] * nums[1] * nums[-1]\n",
        "    return max(max_product, alt_product)\n",
        "\n",
        "# Driver Code\n",
        "nums = [1, 2, 3, 4]\n",
        "print(maximumProduct(nums))"
      ],
      "metadata": {
        "colab": {
          "base_uri": "https://localhost:8080/"
        },
        "id": "16wNqYt9ZRoP",
        "outputId": "92e43ac6-0fe2-4e7d-f0b4-3d19f293a5d8"
      },
      "execution_count": 21,
      "outputs": [
        {
          "output_type": "stream",
          "name": "stdout",
          "text": [
            "24\n"
          ]
        }
      ]
    },
    {
      "cell_type": "markdown",
      "source": [
        "# 6\n",
        "Given an array of integers nums which is sorted in ascending order, and an integer target,\n",
        "write a function to search target in nums. If target exists, then return its index. Otherwise,\n",
        "return -1.\n",
        "\n",
        "You must write an algorithm with O(log n) runtime complexity.\n",
        "\n",
        "<br>Input: nums = [-1,0,3,5,9,12], target = 9\n",
        "<br>Output: 4"
      ],
      "metadata": {
        "id": "b_QptTsZaLaC"
      }
    },
    {
      "cell_type": "code",
      "source": [
        "def search(nums, target):\n",
        "    l, r = 0, len(nums) - 1\n",
        "\n",
        "    while l <= r:\n",
        "        mid = (l + r) // 2\n",
        "\n",
        "        if nums[mid] == target:\n",
        "            return mid\n",
        "        elif target < nums[mid]:\n",
        "            r = mid - 1\n",
        "        else:\n",
        "            l = mid + 1\n",
        "\n",
        "    return -1\n",
        "\n",
        "# Drive Code\n",
        "nums = [-1, 0, 3, 5, 9, 12]\n",
        "target = 9\n",
        "print(search(nums, target))\n"
      ],
      "metadata": {
        "colab": {
          "base_uri": "https://localhost:8080/"
        },
        "id": "x4NqKVY8Z4Wt",
        "outputId": "9a646735-0502-480b-ed65-c77372aadd3b"
      },
      "execution_count": 11,
      "outputs": [
        {
          "output_type": "stream",
          "name": "stdout",
          "text": [
            "4\n"
          ]
        }
      ]
    },
    {
      "cell_type": "markdown",
      "source": [
        "# 7\n",
        "An array is monotonic if it is either monotone increasing or monotone decreasing.\n",
        "\n",
        "An array nums is monotone increasing if for all i <= j, nums[i] <= nums[j]. An array nums is\n",
        "monotone decreasing if for all i <= j, nums[i] >= nums[j].\n",
        "\n",
        "Given an integer array nums, return true if the given array is monotonic, or false otherwise.\n",
        "\n",
        "Example 1:\n",
        "<br>Input: nums = [1,2,2,3]\n",
        "<br>Output: true"
      ],
      "metadata": {
        "id": "mk4zti9Sa-kf"
      }
    },
    {
      "cell_type": "code",
      "source": [
        "def isMonotonic(nums):\n",
        "    isIncrease = True\n",
        "    isDecrease = True\n",
        "\n",
        "    for i in range(1, len(nums)):\n",
        "        if nums[i] < nums[i - 1]:\n",
        "            isIncrease = False\n",
        "        if nums[i] > nums[i - 1]:\n",
        "            isDecrease = False\n",
        "\n",
        "    return isIncrease or isDecrease\n",
        "\n",
        "# Driver Code\n",
        "nums = [1, 2, 2, 3]\n",
        "print(isMonotonic(nums))"
      ],
      "metadata": {
        "colab": {
          "base_uri": "https://localhost:8080/"
        },
        "id": "TLxUS9TGap70",
        "outputId": "29a93103-18f2-4a53-b82a-86e1d1e5704b"
      },
      "execution_count": 22,
      "outputs": [
        {
          "output_type": "stream",
          "name": "stdout",
          "text": [
            "True\n"
          ]
        }
      ]
    },
    {
      "cell_type": "markdown",
      "source": [
        "# 8\n",
        "You are given an integer array nums and an integer k.\n",
        "\n",
        "In one operation, you can choose any index i where 0 <= i < nums.length and change nums[i] to nums[i] + x where x is an integer from the range [-k, k]. You can apply this operation at most once for each index i.\n",
        "\n",
        "The score of nums is the difference between the maximum and minimum elements in nums.\n",
        "\n",
        "Return the minimum score of nums after applying the mentioned operation at most once for each index in it.\n",
        "\n",
        "Example 1:\n",
        "<br>Input: nums = [1], k = 0\n",
        "<br>Output: 0\n"
      ],
      "metadata": {
        "id": "1-lZS0kybgDh"
      }
    },
    {
      "cell_type": "code",
      "source": [
        "def minimumScore(nums, k):\n",
        "    if k == 0:\n",
        "        return 0\n",
        "\n",
        "    min_val = float('inf')\n",
        "    max_val = float('-inf')\n",
        "\n",
        "    for i in nums:\n",
        "        min_val = min(min_val, i)\n",
        "        max_val = max(max_val, i)\n",
        "\n",
        "    initial_score = max_val - min_val\n",
        "\n",
        "    if initial_score == 0:\n",
        "        return 0\n",
        "\n",
        "    potential_min = min(min_val + k, max_val - k)\n",
        "\n",
        "    return min(initial_score, potential_min)\n",
        "\n",
        "# Driver Code\n",
        "nums = [1]\n",
        "k = 0\n",
        "print(minimumScore(nums, k))"
      ],
      "metadata": {
        "colab": {
          "base_uri": "https://localhost:8080/"
        },
        "id": "kjqKP0s-bZ48",
        "outputId": "9cb5dc78-69fd-4da7-a1af-4f4fad591e19"
      },
      "execution_count": 24,
      "outputs": [
        {
          "output_type": "stream",
          "name": "stdout",
          "text": [
            "0\n"
          ]
        }
      ]
    },
    {
      "cell_type": "code",
      "source": [],
      "metadata": {
        "id": "cxbnCX5Yb4uI"
      },
      "execution_count": null,
      "outputs": []
    }
  ]
}