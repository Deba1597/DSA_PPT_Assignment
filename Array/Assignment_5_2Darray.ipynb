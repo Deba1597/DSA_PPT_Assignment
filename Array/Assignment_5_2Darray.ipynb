{
  "nbformat": 4,
  "nbformat_minor": 0,
  "metadata": {
    "colab": {
      "provenance": [],
      "authorship_tag": "ABX9TyM+fqrge0ybp4vfVwdtxfhZ",
      "include_colab_link": true
    },
    "kernelspec": {
      "name": "python3",
      "display_name": "Python 3"
    },
    "language_info": {
      "name": "python"
    }
  },
  "cells": [
    {
      "cell_type": "markdown",
      "metadata": {
        "id": "view-in-github",
        "colab_type": "text"
      },
      "source": [
        "<a href=\"https://colab.research.google.com/github/Deba1597/DSA_PPT_Assignment/blob/main/Array/Assignment_5_2Darray.ipynb\" target=\"_parent\"><img src=\"https://colab.research.google.com/assets/colab-badge.svg\" alt=\"Open In Colab\"/></a>"
      ]
    },
    {
      "cell_type": "markdown",
      "source": [
        "# 1 Convert 1D Array Into 2D Array\n",
        "\n",
        "You are given a **0-indexed** 1-dimensional (1D) integer array original, and two integers, m and n. You are tasked with creating a 2-dimensional (2D) array with  m rows and n columns using **all** the elements from original.\n",
        "\n",
        "The elements from indices 0 to n - 1 (**inclusive**) of original should form the first row of the constructed 2D array, the elements from indices n to 2 * n - 1 (**inclusive**) should form the second row of the constructed 2D array, and so on.\n",
        "\n",
        "Return *an* m x n *2D array constructed according to the above procedure, or an empty 2D array if it is impossible*.   \n",
        " **Input:** original = [1,2,3,4], m = 2, n = 2\n",
        "\n",
        "**Output:** [[1,2],[3,4]]"
      ],
      "metadata": {
        "id": "ooZG94RwrIZi"
      }
    },
    {
      "cell_type": "code",
      "execution_count": 16,
      "metadata": {
        "colab": {
          "base_uri": "https://localhost:8080/"
        },
        "id": "PbgODl1eq-tx",
        "outputId": "4ff433c4-2e65-41c6-f22b-a6eb01f16b3f"
      },
      "outputs": [
        {
          "output_type": "stream",
          "name": "stdout",
          "text": [
            "[[1, 2], [3, 4]]\n"
          ]
        }
      ],
      "source": [
        "def convert2Darray(original, m, n):\n",
        "    if m * n != len(original):\n",
        "        return []  # Return empty 2D array if it's impossible\n",
        "\n",
        "    result = [[0] * n for _ in range(m)]  # Initialize the 2D array with zeros\n",
        "\n",
        "    for i in range(len(original)):\n",
        "        row = i // n  # Calculate the row index\n",
        "        col = i % n   # Calculate the column index\n",
        "        result[row][col] = original[i]  # Assign the value to the corresponding position in the 2D array\n",
        "\n",
        "    return result\n",
        "# Driver Code\n",
        "original = [1, 2, 3, 4,]\n",
        "m = 2\n",
        "n = 2\n",
        "result = convert2Darray(original, m, n)\n",
        "print(result)"
      ]
    },
    {
      "cell_type": "markdown",
      "source": [
        "# 2\n",
        "You have n coins and you want to build a staircase with these coins. The staircase consists of k rows where the ith row has exactly i coins. The last row of the staircase **may be** incomplete.\n",
        "\n",
        "Given the integer n, return *the number of **complete rows** of the staircase you will build*.\n",
        "\n",
        "**Input:** n = 5\n",
        "\n",
        "**Output:** 2\n",
        "\n",
        "**Explanation:** Because the 3rd row is incomplete, we return 2."
      ],
      "metadata": {
        "id": "Xtdkogv_r2Es"
      }
    },
    {
      "cell_type": "code",
      "source": [
        "def countCompleteRows(n):\n",
        "    k = 0\n",
        "    total = 0\n",
        "\n",
        "    while total <= n:\n",
        "        k += 1\n",
        "        total += k\n",
        "\n",
        "    return k - 1\n",
        "\n",
        "# Driver Code\n",
        "n = 5\n",
        "result = countCompleteRows(n)\n",
        "print(result)"
      ],
      "metadata": {
        "colab": {
          "base_uri": "https://localhost:8080/"
        },
        "id": "A-8YOjAPrhlA",
        "outputId": "5a3c5540-3e70-43d6-f8e6-4cbe66508fe4"
      },
      "execution_count": 17,
      "outputs": [
        {
          "output_type": "stream",
          "name": "stdout",
          "text": [
            "2\n"
          ]
        }
      ]
    },
    {
      "cell_type": "markdown",
      "source": [
        "# 3\n",
        " Given an integer array nums sorted in **non-decreasing** order, return *an array of **the squares of each number** sorted in non-decreasing order*.\n",
        "\n",
        "**Example 1:**\n",
        "\n",
        "Input: nums = [-4,-1,0,3,10]\n",
        "\n",
        "Output: [0,1,9,16,100]\n",
        "\n",
        "**Explanation:** After squaring, the array becomes [16,1,0,9,100].\n",
        "After sorting, it becomes [0,1,9,16,100]"
      ],
      "metadata": {
        "id": "f_EJrvaXsFjR"
      }
    },
    {
      "cell_type": "code",
      "source": [
        "def sortedSquares(nums):\n",
        "    n = len(nums)\n",
        "    result = [0] * n\n",
        "    left = 0\n",
        "    right = n - 1\n",
        "    index = n - 1\n",
        "\n",
        "    while left <= right:\n",
        "        if abs(nums[left]) > abs(nums[right]):\n",
        "            result[index] = nums[left] ** 2\n",
        "            left += 1\n",
        "        else:\n",
        "            result[index] = nums[right] ** 2\n",
        "            right -= 1\n",
        "        index -= 1\n",
        "\n",
        "    return result\n",
        "\n",
        "# Driver code\n",
        "nums = [-4, -1, 0, 3, 10]\n",
        "result = sortedSquares(nums)\n",
        "print(result)"
      ],
      "metadata": {
        "colab": {
          "base_uri": "https://localhost:8080/"
        },
        "id": "75OcCddCsHDV",
        "outputId": "7dddd35c-c522-49ad-f321-82d68f8ce588"
      },
      "execution_count": 18,
      "outputs": [
        {
          "output_type": "stream",
          "name": "stdout",
          "text": [
            "[0, 1, 9, 16, 100]\n"
          ]
        }
      ]
    },
    {
      "cell_type": "markdown",
      "source": [
        "# 4\n",
        "Given two **0-indexed** integer arrays nums1 and nums2, return *a list* answer *of size* 2 *where:*\n",
        "\n",
        "- answer[0] *is a list of all **distinct** integers in* nums1 *which are **not** present in* nums2*.*\n",
        "- answer[1] *is a list of all **distinct** integers in* nums2 *which are **not** present in* nums1.\n",
        "\n",
        "**Note** that the integers in the lists may be returned in **any** order.\n",
        "\n",
        "**Example 1:**\n",
        "\n",
        "**Input:** nums1 = [1,2,3], nums2 = [2,4,6]\n",
        "\n",
        "**Output:** [[1,3],[4,6]]"
      ],
      "metadata": {
        "id": "czHjegUmsUdS"
      }
    },
    {
      "cell_type": "code",
      "source": [
        "def findDisjointElements(nums1, nums2):\n",
        "    set1 = set(nums1)\n",
        "    set2 = set(nums2)\n",
        "\n",
        "    result1 = list(set1 - set2)\n",
        "    result2 = list(set2 - set1)\n",
        "\n",
        "    return [result1, result2]\n",
        "\n",
        "#Driver Code\n",
        "nums1 = [1, 2, 3]\n",
        "nums2 = [2, 5, 6]\n",
        "# Functin call\n",
        "answer = findDisjointElements(nums1, nums2)\n",
        "print(answer)"
      ],
      "metadata": {
        "colab": {
          "base_uri": "https://localhost:8080/"
        },
        "id": "7eugejJUsLQ2",
        "outputId": "5060f08c-b09d-4bb1-b39e-4f75f556714c"
      },
      "execution_count": 7,
      "outputs": [
        {
          "output_type": "stream",
          "name": "stdout",
          "text": [
            "[[1, 3], [5, 6]]\n"
          ]
        }
      ]
    },
    {
      "cell_type": "markdown",
      "source": [
        "# 5\n",
        "Given two integer arrays arr1 and arr2, and the integer d, *return the distance value between the two arrays*.\n",
        "\n",
        "The distance value is defined as the number of elements arr1[i] such that there is not any element arr2[j] where |arr1[i]-arr2[j]| <= d.\n",
        "\n",
        "**Example 1:**\n",
        "\n",
        "**Input:** arr1 = [4,5,8], arr2 = [10,9,1,8], d = 2\n",
        "\n",
        "**Output:** 2"
      ],
      "metadata": {
        "id": "QREYSOQ9suXk"
      }
    },
    {
      "cell_type": "code",
      "source": [
        "def distanceValue(arr1, arr2, d):\n",
        "    count = 0\n",
        "\n",
        "    for num1 in arr1:\n",
        "        found = False\n",
        "        for num2 in arr2:\n",
        "            if abs(num1 - num2) <= d:\n",
        "                found = True\n",
        "                break\n",
        "        if not found:\n",
        "            count += 1\n",
        "\n",
        "    return count\n",
        "# driver code\n",
        "arr1 = [4, 5, 8]\n",
        "arr2 = [10, 9, 1, 8]\n",
        "d = 2\n",
        "result = distanceValue(arr1, arr2, d)\n",
        "print(result)\n"
      ],
      "metadata": {
        "colab": {
          "base_uri": "https://localhost:8080/"
        },
        "id": "0xbkNbHbsv5b",
        "outputId": "84ab5115-7972-4beb-927f-93e859511369"
      },
      "execution_count": 8,
      "outputs": [
        {
          "output_type": "stream",
          "name": "stdout",
          "text": [
            "2\n"
          ]
        }
      ]
    },
    {
      "cell_type": "markdown",
      "source": [
        "# 6\n",
        "Given an integer array nums of length n where all the integers of nums are in the range [1, n] and each integer appears **once** or **twice**, return *an array of all the integers that appears **twice***.\n",
        "\n",
        "You must write an algorithm that runs in O(n) time and uses only constant extra space.\n",
        "\n",
        "**Example 1:**\n",
        "\n",
        "**Input:** nums = [4,3,2,7,8,2,3,1]\n",
        "\n",
        "**Output:** [2,3]"
      ],
      "metadata": {
        "id": "SRbk5S0JtBnR"
      }
    },
    {
      "cell_type": "code",
      "source": [
        "def findDuplicate(nums):\n",
        "    result = []\n",
        "    n = len(nums)\n",
        "\n",
        "    for i in range(n):\n",
        "        num = abs(nums[i])\n",
        "        if nums[num - 1] < 0:\n",
        "            result.append(num)\n",
        "        else:\n",
        "            nums[num - 1] = -nums[num - 1]\n",
        "\n",
        "    return result\n",
        "# Driver Code\n",
        "nums = [4, 3, 2, 7, 8, 2, 3, 1]\n",
        "result = findDuplicate(nums)\n",
        "print(result)\n"
      ],
      "metadata": {
        "colab": {
          "base_uri": "https://localhost:8080/"
        },
        "id": "bzedmRs-tIjd",
        "outputId": "96fb26e7-b02a-4c08-e9db-0be98138f3b4"
      },
      "execution_count": 9,
      "outputs": [
        {
          "output_type": "stream",
          "name": "stdout",
          "text": [
            "[2, 3]\n"
          ]
        }
      ]
    },
    {
      "cell_type": "markdown",
      "source": [
        "# 7\n",
        "Suppose an array of length n sorted in ascending order is **rotated** between 1 and n times. For example, the array nums = [0,1,2,4,5,6,7] might become:\n",
        "\n",
        "- [4,5,6,7,0,1,2] if it was rotated 4 times.\n",
        "- [0,1,2,4,5,6,7] if it was rotated 7 times.\n",
        "\n",
        "Notice that **rotating** an array [a[0], a[1], a[2], ..., a[n-1]] 1 time results in the array [a[n-1], a[0], a[1], a[2], ..., a[n-2]].\n",
        "\n",
        "Given the sorted rotated array nums of **unique** elements, return *the minimum element of this array*.\n",
        "\n",
        "You must write an algorithm that runs in O(log n) time.\n",
        "\n",
        "**Example 1:**\n",
        "\n",
        "**Input:** nums = [3,4,5,1,2]\n",
        "\n",
        "**Output:** 1\n",
        "\n",
        "**Explanation:** The original array was [1,2,3,4,5] rotated 3 times."
      ],
      "metadata": {
        "id": "UUsddzFftYIB"
      }
    },
    {
      "cell_type": "code",
      "source": [
        "def findMin(nums):\n",
        "    left = 0\n",
        "    right = len(nums) - 1\n",
        "\n",
        "    while left < right:\n",
        "        mid = left + (right - left) // 2\n",
        "\n",
        "        if nums[mid] > nums[right]:\n",
        "            left = mid + 1\n",
        "        else:\n",
        "            right = mid\n",
        "\n",
        "    return nums[left]\n",
        "# Driver Code\n",
        "nums = [3, 4, 5, 1, 2]\n",
        "result = findMin(nums)\n",
        "print(result)"
      ],
      "metadata": {
        "colab": {
          "base_uri": "https://localhost:8080/"
        },
        "id": "AtAAxuGJtYqn",
        "outputId": "3dfb7dce-765e-432c-b3d3-5cb53bb6f626"
      },
      "execution_count": 19,
      "outputs": [
        {
          "output_type": "stream",
          "name": "stdout",
          "text": [
            "1\n"
          ]
        }
      ]
    },
    {
      "cell_type": "markdown",
      "source": [
        "# 8\n",
        "An integer array original is transformed into a **doubled** array changed by appending **twice the value** of every element in original, and then randomly **shuffling** the resulting array.\n",
        "\n",
        "Given an array changed, return original *if* changed *is a **doubled** array. If* changed *is not a **doubled** array, return an empty array. The elements in* original *may be returned in **any** order*.\n",
        "\n",
        "**Example 1:**\n",
        "\n",
        "**Input:** changed = [1,3,4,2,6,8]\n",
        "\n",
        "**Output:** [1,3,4]\n",
        "\n",
        "**Explanation:** One possible original array could be [1,3,4]:\n",
        "\n",
        "- Twice the value of 1 is 1 * 2 = 2.\n",
        "- Twice the value of 3 is 3 * 2 = 6.\n",
        "- Twice the value of 4 is 4 * 2 = 8.\n",
        "\n",
        "Other original arrays could be [4,3,1] or [3,1,4]."
      ],
      "metadata": {
        "id": "gq3Xsu9euHhA"
      }
    },
    {
      "cell_type": "code",
      "source": [
        "def findOriginalArray(changed):\n",
        "    if len(changed) % 2 != 0:\n",
        "        return []  # The changed array length should be even\n",
        "\n",
        "    counts = {}\n",
        "    for num in changed:\n",
        "        counts[num] = counts.get(num, 0) + 1\n",
        "\n",
        "    result = []\n",
        "    for num in sorted(changed):\n",
        "        if counts.get(num, 0) == 0:\n",
        "            continue\n",
        "        if counts.get(num * 2, 0) == 0:\n",
        "            return []  # The changed array is not a doubled array\n",
        "        result.append(num)\n",
        "        counts[num] -= 1\n",
        "        counts[num * 2] -= 1\n",
        "\n",
        "    return result\n",
        "# Driver Code\n",
        "changed = [1, 3, 4, 2, 6, 8,9,18]\n",
        "result = findOriginalArray(changed)\n",
        "print(result)"
      ],
      "metadata": {
        "colab": {
          "base_uri": "https://localhost:8080/"
        },
        "id": "8gut7SFXtxRg",
        "outputId": "a7031ecf-4082-4bc3-f570-337d92a8d17c"
      },
      "execution_count": 15,
      "outputs": [
        {
          "output_type": "stream",
          "name": "stdout",
          "text": [
            "[1, 3, 4, 9]\n"
          ]
        }
      ]
    },
    {
      "cell_type": "code",
      "source": [],
      "metadata": {
        "id": "XSc44hiHuek-"
      },
      "execution_count": null,
      "outputs": []
    }
  ]
}