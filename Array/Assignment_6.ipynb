{
  "nbformat": 4,
  "nbformat_minor": 0,
  "metadata": {
    "colab": {
      "provenance": [],
      "authorship_tag": "ABX9TyPEZudIxe47EtgV7DfSa3af",
      "include_colab_link": true
    },
    "kernelspec": {
      "name": "python3",
      "display_name": "Python 3"
    },
    "language_info": {
      "name": "python"
    }
  },
  "cells": [
    {
      "cell_type": "markdown",
      "metadata": {
        "id": "view-in-github",
        "colab_type": "text"
      },
      "source": [
        "<a href=\"https://colab.research.google.com/github/Deba1597/DSA_PPT_Assignment/blob/main/Array/Assignment_6.ipynb\" target=\"_parent\"><img src=\"https://colab.research.google.com/assets/colab-badge.svg\" alt=\"Open In Colab\"/></a>"
      ]
    },
    {
      "cell_type": "markdown",
      "source": [
        "# 2\n",
        "You are given an m x n integer matrix matrix with the following two properties:\n",
        "\n",
        "- Each row is sorted in non-decreasing order.\n",
        "- The first integer of each row is greater than the last integer of the previous row.\n",
        "\n",
        "Given an integer target, return true *if* target *is in* matrix *or* false *otherwise*.\n",
        "\n",
        "You must write a solution in O(log(m * n)) time complexity.\n",
        "\n",
        "**Input:** matrix = [[1,3,5,7],[10,11,16,20],[23,30,34,60]], target = 3\n",
        "\n",
        "**Output:** true"
      ],
      "metadata": {
        "id": "sscv2GwGwAox"
      }
    },
    {
      "cell_type": "code",
      "execution_count": null,
      "metadata": {
        "colab": {
          "base_uri": "https://localhost:8080/"
        },
        "id": "EkJsxjlHvwiG",
        "outputId": "f2259886-d515-4eb6-a8aa-5e13bc3e2635"
      },
      "outputs": [
        {
          "output_type": "stream",
          "name": "stdout",
          "text": [
            "True\n"
          ]
        }
      ],
      "source": [
        "def searchMatrix(matrix, target):\n",
        "    # no of row\n",
        "    m = len(matrix)\n",
        "    # no of column\n",
        "    n = len(matrix[0])\n",
        "    if m == 0:\n",
        "        return False\n",
        "\n",
        "    l , r = 0, m * n - 1\n",
        "    while l <= r:\n",
        "        mid = l + (r -l) // 2\n",
        "        mid_element = matrix[mid // n][mid % n]\n",
        "        if target == mid_element:\n",
        "            return True\n",
        "        elif target < mid_element:\n",
        "            r = mid + 1\n",
        "        else :\n",
        "            l = mid - 1\n",
        "    return False\n",
        "\n",
        "# driver code\n",
        "matrix = [[1,3,5,7],[10,11,16,20],[23,30,34,60]]\n",
        "target = 3\n",
        "result = searchMatrix(matrix, target)\n",
        "print(result)"
      ]
    },
    {
      "cell_type": "markdown",
      "source": [
        "# 3\n",
        "Given an array of integers arr, return *true if and only if it is a valid mountain array*.\n",
        "\n",
        "Recall that arr is a mountain array if and only if:\n",
        "\n",
        "- arr.length >= 3\n",
        "- There exists some i with 0 < i < arr.length - 1 such that:\n",
        "    - arr[0] < arr[1] < ... < arr[i - 1] < arr[i]\n",
        "    - arr[i] > arr[i + 1] > ... > arr[arr.length - 1]\n",
        "\n",
        "**Example 1:**\n",
        "\n",
        "**Input:** arr = [2,1]\n",
        "\n",
        "**Output:** false"
      ],
      "metadata": {
        "id": "3vd1PvLHzZLr"
      }
    },
    {
      "cell_type": "code",
      "source": [
        "def validMountainArray(arr):\n",
        "    if len(arr) < 3:\n",
        "        return False\n",
        "\n",
        "    peak_index = max(range(1, len(arr) - 1), key=lambda i: arr[i])\n",
        "\n",
        "    if peak_index == 0 or peak_index == len(arr) - 1:\n",
        "        return False\n",
        "\n",
        "    for i in range(peak_index):\n",
        "        if arr[i] >= arr[i+1]:\n",
        "            return False\n",
        "\n",
        "    for i in range(peak_index, len(arr) - 1):\n",
        "        if arr[i] <= arr[i+1]:\n",
        "            return False\n",
        "\n",
        "    return True\n",
        "# driver code\n",
        "arr = [1,2,3,4,5,3,2,1]\n",
        "result = validMountainArray(arr)\n",
        "print(result)"
      ],
      "metadata": {
        "colab": {
          "base_uri": "https://localhost:8080/"
        },
        "id": "n0U-k8WNzD6K",
        "outputId": "cce81b94-9178-4042-eec4-d4da1a6561cc"
      },
      "execution_count": null,
      "outputs": [
        {
          "output_type": "stream",
          "name": "stdout",
          "text": [
            "True\n"
          ]
        }
      ]
    },
    {
      "cell_type": "markdown",
      "source": [
        "# 4\n",
        "Given a binary array nums, return *the maximum length of a contiguous subarray with an equal number of* 0 *and* 1.\n",
        "\n",
        "**Example 1:**\n",
        "\n",
        "**Input:** nums = [0,1]\n",
        "\n",
        "**Output:** 2\n",
        "\n",
        "**Explanation:**\n",
        "\n",
        "[0, 1] is the longest contiguous subarray with an equal number of 0 and 1."
      ],
      "metadata": {
        "id": "LH6QM61M2BhZ"
      }
    },
    {
      "cell_type": "code",
      "source": [
        "def findMaxLength(nums):\n",
        "    count = 0\n",
        "    max_length = 0\n",
        "    count_map = {0: -1}\n",
        "\n",
        "    for i, num in enumerate(nums):\n",
        "        if num == 0:\n",
        "            count -= 1\n",
        "        else:\n",
        "            count += 1\n",
        "\n",
        "        if count in count_map:\n",
        "            max_length = max(max_length, i - count_map[count])\n",
        "        else:\n",
        "            count_map[count] = i\n",
        "\n",
        "    return max_length\n",
        "# driver code\n",
        "nums = [0,1]\n",
        "result = findMaxLength(nums)\n",
        "print(result)"
      ],
      "metadata": {
        "colab": {
          "base_uri": "https://localhost:8080/"
        },
        "id": "cJiK_a1m1Cq8",
        "outputId": "58f76336-813e-4131-ae90-f574cf7506f5"
      },
      "execution_count": null,
      "outputs": [
        {
          "output_type": "stream",
          "name": "stdout",
          "text": [
            "2\n"
          ]
        }
      ]
    },
    {
      "cell_type": "markdown",
      "source": [
        "# 5\n",
        "The **product sum** of two equal-length arrays a and b is equal to the sum of a[i] * b[i] for all 0 <= i < a.length (**0-indexed**).\n",
        "\n",
        "- For example, if a = [1,2,3,4] and b = [5,2,3,1], the **product sum** would be 1*5 + 2*2 + 3*3 + 4*1 = 22.\n",
        "\n",
        "Given two arrays nums1 and nums2 of length n, return *the **minimum product sum** if you are allowed to **rearrange** the **order** of the elements in* nums1.\n",
        "\n",
        "**Example 1:**\n",
        "\n",
        "**Input:** nums1 = [5,3,4,2], nums2 = [4,2,2,5]\n",
        "\n",
        "**Output:** 40\n",
        "\n",
        "**Explanation:**\n",
        "\n",
        "We can rearrange nums1 to become [3,5,4,2]. The product sum of [3,5,4,2] and [4,2,2,5] is 3*4 + 5*2 + 4*2 + 2*5 = 40."
      ],
      "metadata": {
        "id": "1a5j8E0T35dW"
      }
    },
    {
      "cell_type": "code",
      "source": [
        "def minProductSum(nums1, nums2):\n",
        "    nums1.sort()\n",
        "    nums2.sort(reverse=True)\n",
        "\n",
        "    product_sum = sum(nums1[i] * nums2[i] for i in range(len(nums1)))\n",
        "\n",
        "    return product_sum\n",
        "# driver code\n",
        "nums1 = [5,3,4,2]\n",
        "nums2 = [4,2,2,5]\n",
        "result = minProductSum(nums1, nums2)\n",
        "print(result)"
      ],
      "metadata": {
        "id": "KfKvfI1t2A8D",
        "colab": {
          "base_uri": "https://localhost:8080/"
        },
        "outputId": "11a47bfc-e6dc-4aef-84f5-af48e5be427c"
      },
      "execution_count": 2,
      "outputs": [
        {
          "output_type": "stream",
          "name": "stdout",
          "text": [
            "40\n"
          ]
        }
      ]
    },
    {
      "cell_type": "markdown",
      "source": [
        "# 6\n",
        "An integer array original is transformed into a **doubled** array changed by appending **twice the value** of every element in original, and then randomly **shuffling** the resulting array.\n",
        "\n",
        "Given an array changed, return original *if* changed *is a **doubled** array. If* changed *is not a **doubled** array, return an empty array. The elements in* original *may be returned in **any** order*.\n",
        "\n",
        "**Example 1:**\n",
        "\n",
        "**Input:** changed = [1,3,4,2,6,8]\n",
        "\n",
        "**Output:** [1,3,4]\n",
        "\n",
        "**Explanation:** One possible original array could be [1,3,4]:\n",
        "\n",
        "- Twice the value of 1 is 1 * 2 = 2.\n",
        "- Twice the value of 3 is 3 * 2 = 6.\n",
        "- Twice the value of 4 is 4 * 2 = 8.\n",
        "\n",
        "Other original arrays could be [4,3,1] or [3,1,4]."
      ],
      "metadata": {
        "id": "qR_H8v9dwikq"
      }
    },
    {
      "cell_type": "code",
      "source": [
        "from collections import defaultdict\n",
        "\n",
        "def findOriginalArray(changed):\n",
        "    if len(changed) % 2 != 0:\n",
        "        return []\n",
        "\n",
        "    freq = defaultdict(int)\n",
        "    for num in changed:\n",
        "        freq[num] += 1\n",
        "\n",
        "    changed.sort()\n",
        "    original = []\n",
        "\n",
        "    for num in changed:\n",
        "        if freq[num] == 0:\n",
        "            continue\n",
        "        if freq[num * 2] == 0:\n",
        "            return []\n",
        "        original.append(num)\n",
        "        freq[num] -= 1\n",
        "        freq[num * 2] -= 1\n",
        "\n",
        "    return original\n",
        "\n",
        "changed = [1, 3, 4, 2, 6, 8]\n",
        "original = findOriginalArray(changed)\n",
        "print(original)\n"
      ],
      "metadata": {
        "id": "vACMgJaJ2A4S",
        "colab": {
          "base_uri": "https://localhost:8080/"
        },
        "outputId": "38a7a621-5b8c-47a1-9cf9-c4b950cc9ba3"
      },
      "execution_count": 3,
      "outputs": [
        {
          "output_type": "stream",
          "name": "stdout",
          "text": [
            "[1, 3, 4]\n"
          ]
        }
      ]
    },
    {
      "cell_type": "markdown",
      "source": [
        "# 7\n",
        "Given a positive integer n, generate an n x n matrix filled with elements from 1 to n2 in spiral order.   \n",
        "**Input:** n = 3\n",
        "\n",
        "**Output:** [[1,2,3],[8,9,4],[7,6,5]]"
      ],
      "metadata": {
        "id": "U9p8h2Y20cJj"
      }
    },
    {
      "cell_type": "code",
      "source": [
        "def generateMatrix(n):\n",
        "    matrix = [[0] * n for _ in range(n)]\n",
        "    start_row, end_row = 0, n - 1\n",
        "    start_col, end_col = 0, n - 1\n",
        "    num = 1\n",
        "\n",
        "    def fillLayer(start_row, end_row, start_col, end_col, num):\n",
        "        if start_row > end_row or start_col > end_col:\n",
        "            return\n",
        "\n",
        "        for col in range(start_col, end_col + 1):\n",
        "            matrix[start_row][col] = num\n",
        "            num += 1\n",
        "\n",
        "        for row in range(start_row + 1, end_row + 1):\n",
        "            matrix[row][end_col] = num\n",
        "            num += 1\n",
        "\n",
        "        if start_row < end_row:\n",
        "            for col in range(end_col - 1, start_col - 1, -1):\n",
        "                matrix[end_row][col] = num\n",
        "                num += 1\n",
        "\n",
        "        if start_col < end_col:\n",
        "            for row in range(end_row - 1, start_row, -1):\n",
        "                matrix[row][start_col] = num\n",
        "                num += 1\n",
        "\n",
        "        fillLayer(start_row + 1, end_row - 1, start_col + 1, end_col - 1, num)\n",
        "\n",
        "    fillLayer(start_row, end_row, start_col, end_col, num)\n",
        "\n",
        "    return matrix\n",
        "\n",
        "n = 3\n",
        "result = generateMatrix(n)\n",
        "print(result)"
      ],
      "metadata": {
        "id": "HqSBmwd-2A18",
        "colab": {
          "base_uri": "https://localhost:8080/"
        },
        "outputId": "c4259deb-6a44-459e-9bdb-c83b894de219"
      },
      "execution_count": 6,
      "outputs": [
        {
          "output_type": "stream",
          "name": "stdout",
          "text": [
            "[[1, 2, 3], [8, 9, 4], [7, 6, 5]]\n"
          ]
        }
      ]
    },
    {
      "cell_type": "markdown",
      "source": [
        "# 8\n",
        "Given two sparse matrices mat1 of size m x k and mat2 of size k x n, return the result of mat1 x mat2. You may assume that multiplication is always possible.                                                                                                     \n",
        " **Input:** mat1 = [[1,0,0],[-1,0,3]], mat2 = [[7,0,0],[0,0,0],[0,0,1]]\n",
        "\n",
        "**Output:** [[7,0,0],[-7,0,3]]"
      ],
      "metadata": {
        "id": "sVv0a7f50-TB"
      }
    },
    {
      "cell_type": "code",
      "source": [
        "def multiplySparseMatrices(mat1, mat2):\n",
        "    m, k = len(mat1), len(mat1[0])\n",
        "    n = len(mat2[0])\n",
        "\n",
        "    result = [[0] * n for _ in range(m)]\n",
        "\n",
        "    for i in range(m):\n",
        "        for j in range(n):\n",
        "            for p in range(k):\n",
        "                result[i][j] += mat1[i][p] * mat2[p][j]\n",
        "\n",
        "    return result\n",
        "\n",
        "mat1 = [[1,0,0],[-1,0,3]]\n",
        "mat2 = [[7,0,0],[0,0,0],[0,0,1]]\n",
        "result = multiplySparseMatrices(mat1, mat2)\n",
        "print(result)"
      ],
      "metadata": {
        "colab": {
          "base_uri": "https://localhost:8080/"
        },
        "id": "ESCwCv4706mY",
        "outputId": "a011ddd0-a879-450c-eeee-0fca48e7290d"
      },
      "execution_count": 5,
      "outputs": [
        {
          "output_type": "stream",
          "name": "stdout",
          "text": [
            "[[7, 0, 0], [-7, 0, 3]]\n"
          ]
        }
      ]
    },
    {
      "cell_type": "code",
      "source": [],
      "metadata": {
        "id": "yd_x3D091eZo"
      },
      "execution_count": null,
      "outputs": []
    }
  ]
}