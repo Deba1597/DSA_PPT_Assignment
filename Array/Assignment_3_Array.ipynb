{
  "nbformat": 4,
  "nbformat_minor": 0,
  "metadata": {
    "colab": {
      "provenance": [],
      "authorship_tag": "ABX9TyMKGbReuosPD5wFAO8TXQhQ",
      "include_colab_link": true
    },
    "kernelspec": {
      "name": "python3",
      "display_name": "Python 3"
    },
    "language_info": {
      "name": "python"
    }
  },
  "cells": [
    {
      "cell_type": "markdown",
      "metadata": {
        "id": "view-in-github",
        "colab_type": "text"
      },
      "source": [
        "<a href=\"https://colab.research.google.com/github/Deba1597/DSA_PPT_Assignment/blob/main/Array/Assignment_3_Array.ipynb\" target=\"_parent\"><img src=\"https://colab.research.google.com/assets/colab-badge.svg\" alt=\"Open In Colab\"/></a>"
      ]
    },
    {
      "cell_type": "markdown",
      "source": [
        "# 1\n",
        "Given an integer array nums of length n and an integer target, find three integers\n",
        "in nums such that the sum is closest to the target.\n",
        "Return the sum of the three integers.\n",
        "\n",
        "You may assume that each input would have exactly one solution.\n",
        "\n",
        "Example 1:\n",
        "<br>Input: nums = [-1,2,1,-4], target = 1\n",
        "<br>Output: 2"
      ],
      "metadata": {
        "id": "IO-G6BzOfzWL"
      }
    },
    {
      "cell_type": "code",
      "execution_count": 1,
      "metadata": {
        "colab": {
          "base_uri": "https://localhost:8080/"
        },
        "id": "LNXDG3n3fkFJ",
        "outputId": "8256cc90-a856-4cde-d340-32a8698da991"
      },
      "outputs": [
        {
          "output_type": "stream",
          "name": "stdout",
          "text": [
            "2\n"
          ]
        }
      ],
      "source": [
        "def threeSumClosest(nums, target):\n",
        "    nums.sort()\n",
        "    n = len(nums)\n",
        "    closest_sum = float('inf')\n",
        "\n",
        "    for i in range(n - 2):\n",
        "        num1 = nums[i]\n",
        "        left = i + 1\n",
        "        right = n - 1\n",
        "\n",
        "        while left < right:\n",
        "            cur_sum = num1 + nums[left] + nums[right]\n",
        "\n",
        "            if abs(cur_sum - target) < abs(closest_sum - target):\n",
        "                closest_sum = cur_sum\n",
        "\n",
        "            if cur_sum < target:\n",
        "                left += 1\n",
        "            elif cur_sum > target:\n",
        "                right -= 1\n",
        "            else:\n",
        "                return cur_sum\n",
        "\n",
        "    return closest_sum\n",
        "# Driver Code\n",
        "nums = [-1, 2, 1, -4]\n",
        "target = 1\n",
        "result = threeSumClosest(nums, target)\n",
        "print(result)"
      ]
    },
    {
      "cell_type": "markdown",
      "source": [
        "# 2\n",
        "Given an array nums of n integers, return an array of all the unique quadruplets\n",
        "[nums[a], nums[b], nums[c], nums[d]] such that:\n",
        "           ● 0 <= a, b, c, d < n\n",
        "           ● a, b, c, and d are distinct.\n",
        "           ● nums[a] + nums[b] + nums[c] + nums[d] == target\n",
        "\n",
        "You may return the answer in any order.\n",
        "\n",
        "Example 1:\n",
        "<br>Input: nums = [1,0,-1,0,-2,2], target = 0\n",
        "<br>Output: [[-2,-1,1,2],[-2,0,0,2],[-1,0,0,1]]"
      ],
      "metadata": {
        "id": "Pu7u1lhIgbn9"
      }
    },
    {
      "cell_type": "code",
      "source": [
        "def fourSum(nums, target):\n",
        "    nums.sort()\n",
        "    n = len(nums)\n",
        "    result = []\n",
        "\n",
        "    for i in range(n - 3):\n",
        "        num1 = nums[i]\n",
        "\n",
        "        if i > 0 and nums[i] == nums[i - 1]:\n",
        "            continue\n",
        "\n",
        "        for j in range(i + 1, n - 2):\n",
        "            num2 = nums[j]\n",
        "\n",
        "            if j > i + 1 and nums[j] == nums[j - 1]:\n",
        "                continue\n",
        "\n",
        "            left = j + 1\n",
        "            right = n - 1\n",
        "\n",
        "            while left < right:\n",
        "                cur_sum = num1 + num2 + nums[left] + nums[right]\n",
        "\n",
        "                if cur_sum == target:\n",
        "                    result.append([num1, num2, nums[left], nums[right]])\n",
        "                    left += 1\n",
        "                    right -= 1\n",
        "\n",
        "                    while left < right and nums[left] == nums[left - 1]:\n",
        "                        left += 1\n",
        "\n",
        "                    while left < right and nums[right] == nums[right + 1]:\n",
        "                        right -= 1\n",
        "\n",
        "                elif cur_sum < target:\n",
        "                    left += 1\n",
        "                else:\n",
        "                    right -= 1\n",
        "\n",
        "    return result\n",
        "# Driver Code\n",
        "nums =  [1,0,-1,0,-2,2]\n",
        "target = 0\n",
        "# function call\n",
        "result = fourSum(nums, target)\n",
        "print(result)"
      ],
      "metadata": {
        "colab": {
          "base_uri": "https://localhost:8080/"
        },
        "id": "Yw305GsZgf2f",
        "outputId": "efa43c7d-ac49-437f-e038-f3179952a24c"
      },
      "execution_count": 3,
      "outputs": [
        {
          "output_type": "stream",
          "name": "stdout",
          "text": [
            "[[-2, -1, 1, 2], [-2, 0, 0, 2], [-1, 0, 0, 1]]\n"
          ]
        }
      ]
    },
    {
      "cell_type": "markdown",
      "source": [
        "# 3 <aside>\n",
        "💡 A permutation of an array of integers is an arrangement of its members into a\n",
        "sequence or linear order.\n",
        "\n",
        "For example, for arr = [1,2,3], the following are all the permutations of arr:\n",
        "[1,2,3], [1,3,2], [2, 1, 3], [2, 3, 1], [3,1,2], [3,2,1].\n",
        "\n",
        "The next permutation of an array of integers is the next lexicographically greater\n",
        "permutation of its integer. More formally, if all the permutations of the array are\n",
        "sorted in one container according to their lexicographical order, then the next\n",
        "permutation of that array is the permutation that follows it in the sorted container.\n",
        "\n",
        "If such an arrangement is not possible, the array must be rearranged as the\n",
        "lowest possible order (i.e., sorted in ascending order).\n",
        "\n",
        "● For example, the next permutation of arr = [1,2,3] is [1,3,2].\n",
        "● Similarly, the next permutation of arr = [2,3,1] is [3,1,2].\n",
        "● While the next permutation of arr = [3,2,1] is [1,2,3] because [3,2,1] does not\n",
        "have a lexicographical larger rearrangement.\n",
        "\n",
        "Given an array of integers nums, find the next permutation of nums.\n",
        "The replacement must be in place and use only constant extra memory.\n",
        "\n",
        "**Example 1:**\n",
        "Input: nums = [1,2,3]\n",
        "Output: [1,3,2]\n",
        "\n",
        "</aside>"
      ],
      "metadata": {
        "id": "57_lzYBvjV8r"
      }
    },
    {
      "cell_type": "code",
      "source": [
        "def nextPermutation(nums):\n",
        "    # Find the first pair of adjacent elements where nums[i] < nums[i+1]\n",
        "    i = len(nums) - 2\n",
        "    while i >= 0 and nums[i] >= nums[i+1]:\n",
        "        i -= 1\n",
        "\n",
        "    if i >= 0:\n",
        "        # Find the smallest element in nums[i+1:] that is greater than nums[i]\n",
        "        j = len(nums) - 1\n",
        "        while j >= 0 and nums[j] <= nums[i]:\n",
        "            j -= 1\n",
        "        # Swap nums[i] with the smallest element found\n",
        "        nums[i], nums[j] = nums[j], nums[i]\n",
        "\n",
        "    # Reverse the subarray nums[i+1:] to get the next permutation\n",
        "    left = i + 1\n",
        "    right = len(nums) - 1\n",
        "    while left < right:\n",
        "        nums[left], nums[right] = nums[right], nums[left]\n",
        "        left += 1\n",
        "        right -= 1\n",
        "\n",
        "    return nums\n",
        "# Driver Code\n",
        "nums = [1, 2, 3]\n",
        "result = nextPermutation(nums)\n",
        "print(result)\n"
      ],
      "metadata": {
        "colab": {
          "base_uri": "https://localhost:8080/"
        },
        "id": "GfCCBTj9hCwC",
        "outputId": "9f89cb9a-9f99-4589-a7cb-c057681bf984"
      },
      "execution_count": 4,
      "outputs": [
        {
          "output_type": "stream",
          "name": "stdout",
          "text": [
            "[1, 3, 2]\n"
          ]
        }
      ]
    },
    {
      "cell_type": "markdown",
      "source": [
        "#4\n",
        "Given a sorted array of distinct integers and a target value, return the index if the\n",
        "target is found. If not, return the index where it would be if it were inserted in\n",
        "order.\n",
        "\n",
        "You must write an algorithm with O(log n) runtime complexity.\n",
        "\n",
        "Example 1:\n",
        "Input: nums = [1,3,5,6], target = 5\n",
        "Output: 2"
      ],
      "metadata": {
        "id": "Dk8ywSLunZI3"
      }
    },
    {
      "cell_type": "code",
      "source": [
        "def searchNum(nums, target):\n",
        "    l = 0\n",
        "    r = len(nums) - 1\n",
        "\n",
        "    while l < r:\n",
        "        mid = r + (l - r)//2\n",
        "\n",
        "        if nums[mid] == target:\n",
        "            return mid\n",
        "        elif nums[mid] < target:\n",
        "            l = mid + 1\n",
        "        else :\n",
        "            r = mid - 1\n",
        "    return -1\n",
        "# driver code\n",
        "nums = [1,3,5,6]\n",
        "target=5\n",
        "result = searchNum(nums, target)\n",
        "print(result)"
      ],
      "metadata": {
        "colab": {
          "base_uri": "https://localhost:8080/"
        },
        "id": "RrZwnlnHnbL6",
        "outputId": "0ce6f70a-af1e-447c-c204-ed519d6a54cd"
      },
      "execution_count": 5,
      "outputs": [
        {
          "output_type": "stream",
          "name": "stdout",
          "text": [
            "2\n"
          ]
        }
      ]
    },
    {
      "cell_type": "markdown",
      "source": [
        "#5\n",
        "You are given a large integer represented as an integer array digits, where each\n",
        "digits[i] is the ith digit of the integer. The digits are ordered from most significant\n",
        "to least significant in left-to-right order. The large integer does not contain any\n",
        "leading 0's.\n",
        "\n",
        "Increment the large integer by one and return the resulting array of digits.\n",
        "\n",
        "Example 1:\n",
        "Input: digits = [1,2,3]\n",
        "Output: [1,2,4]"
      ],
      "metadata": {
        "id": "-1PWSNkYo-OD"
      }
    },
    {
      "cell_type": "code",
      "source": [
        "def plusOne(digits):\n",
        "    carry = 1\n",
        "\n",
        "    for i in range(len(digits) - 1, -1, -1):\n",
        "        digits[i] += carry\n",
        "        carry = digits[i] // 10\n",
        "        digits[i] %= 10\n",
        "\n",
        "        if carry == 0:\n",
        "            break\n",
        "\n",
        "    if carry != 0:\n",
        "        digits.insert(0, carry)\n",
        "\n",
        "    return digits\n",
        "\n",
        "# Driver Code\n",
        "digits = [1, 2, 3]\n",
        "result = plusOne(digits)\n",
        "print(result)"
      ],
      "metadata": {
        "colab": {
          "base_uri": "https://localhost:8080/"
        },
        "id": "5c-hj2gUo4O_",
        "outputId": "212abaec-4485-4455-bff5-9402d4daa646"
      },
      "execution_count": 6,
      "outputs": [
        {
          "output_type": "stream",
          "name": "stdout",
          "text": [
            "[1, 2, 4]\n"
          ]
        }
      ]
    },
    {
      "cell_type": "markdown",
      "source": [
        "# 6\n",
        "Given a non-empty array of integers nums, every element appears twice except\n",
        "for one. Find that single one.\n",
        "\n",
        "You must implement a solution with a linear runtime complexity and use only\n",
        "constant extra space.\n",
        "\n",
        "Example 1:\n",
        "Input: nums = [2,2,1]\n",
        "Output: 1"
      ],
      "metadata": {
        "id": "5FspfCFPpRto"
      }
    },
    {
      "cell_type": "code",
      "source": [],
      "metadata": {
        "id": "UfhMUVsqpV9u"
      },
      "execution_count": null,
      "outputs": []
    },
    {
      "cell_type": "markdown",
      "source": [
        "#7\n",
        "You are given an inclusive range [lower, upper] and a sorted unique integer array\n",
        "nums, where all elements are within the inclusive range.\n",
        "\n",
        "A number x is considered missing if x is in the range [lower, upper] and x is not in\n",
        "nums.\n",
        "\n",
        "Return the shortest sorted list of ranges that exactly covers all the missing\n",
        "numbers. That is, no element of nums is included in any of the ranges, and each\n",
        "missing number is covered by one of the ranges.\n",
        "\n",
        "Example 1:\n",
        "Input: nums = [0,1,3,50,75], lower = 0, upper = 99\n",
        "<br>Output: [[2,2],[4,49],[51,74],[76,99]]"
      ],
      "metadata": {
        "id": "MAzuBwpgpXNk"
      }
    },
    {
      "cell_type": "code",
      "source": [],
      "metadata": {
        "id": "yf9NodceSyjo"
      },
      "execution_count": null,
      "outputs": []
    },
    {
      "cell_type": "markdown",
      "source": [
        "# 8\n",
        "Given an array of meeting time intervals where intervals[i] = [starti, endi],\n",
        "determine if a person could attend all meetings.\n",
        "\n",
        "Example 1:\n",
        "Input: intervals = [[0,30],[5,10],[15,20]]\n",
        "Output: false"
      ],
      "metadata": {
        "id": "pGaWUsd-qMCg"
      }
    },
    {
      "cell_type": "code",
      "source": [
        "def canAttendMeetings(intervals):\n",
        "    intervals.sort(key=lambda x: x[0])\n",
        "\n",
        "    for i in range(1, len(intervals)):\n",
        "        if intervals[i][0] < intervals[i-1][1]:\n",
        "            return False\n",
        "\n",
        "    return True\n",
        "# driver code\n",
        "\n",
        "intervals = [[0, 30], [5, 10], [15, 20]]\n",
        "result = canAttendMeetings(intervals)\n",
        "print(result)\n"
      ],
      "metadata": {
        "colab": {
          "base_uri": "https://localhost:8080/"
        },
        "id": "TbDapZZZp0PB",
        "outputId": "d5ccfe9c-b919-4958-eb23-fdf517948c00"
      },
      "execution_count": 11,
      "outputs": [
        {
          "output_type": "stream",
          "name": "stdout",
          "text": [
            "False\n"
          ]
        }
      ]
    },
    {
      "cell_type": "code",
      "source": [],
      "metadata": {
        "id": "3yOiIbNXQiJH"
      },
      "execution_count": null,
      "outputs": []
    }
  ]
}